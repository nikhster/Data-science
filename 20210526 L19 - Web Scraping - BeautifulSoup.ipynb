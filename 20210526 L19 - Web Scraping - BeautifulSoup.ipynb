{
 "metadata": {
  "language_info": {
   "codemirror_mode": {
    "name": "ipython",
    "version": 3
   },
   "file_extension": ".py",
   "mimetype": "text/x-python",
   "name": "python",
   "nbconvert_exporter": "python",
   "pygments_lexer": "ipython3",
   "version": "3.8.5"
  },
  "orig_nbformat": 2,
  "kernelspec": {
   "name": "python385jvsc74a57bd01e915f0a29dc84041eaeb02b7b1a21c440e37a87b61d44d5e84a515737dc82bc",
   "display_name": "Python 3.8.5 64-bit ('base': conda)"
  }
 },
 "nbformat": 4,
 "nbformat_minor": 2,
 "cells": [
  {
   "source": [
    "# Lecture 19 : Web Scraping - BeautifulSoup"
   ],
   "cell_type": "markdown",
   "metadata": {}
  },
  {
   "source": [
    "### Print Body tag\n",
    "You are given the HTML content of a webpage, your task is to :\n",
    "Print all the contents of the body tag(including body tag)\n",
    "NOTE : You are provided the HTML content inside variable html"
   ],
   "cell_type": "markdown",
   "metadata": {}
  },
  {
   "cell_type": "code",
   "execution_count": 4,
   "metadata": {},
   "outputs": [
    {
     "output_type": "stream",
     "name": "stdout",
     "text": [
      "<body><h1> About Us </h1><div class=\"first_div\"><p>Coding Ninjas Website</p><a href=\"https://www.codingninjas.in/\">Link to Coding Ninjas Website</a><ul><li>This</li><li>is</li><li>an</li><li>unordered</li><li>list.</li></ul></div><p id=\"template_p\">This is a template paragraph tag</p><a href=\"https://www.facebook.com/codingninjas/\">This is the link of our Facebook Page</a></body>\n"
     ]
    }
   ],
   "source": [
    "html = '<!DOCTYPE html><html><head><title>Learning Beautiful Soup</title></head>\\\n",
    "<body><h1> About Us </h1><div class = \"first_div\"><p>Coding Ninjas Website</p>\\\n",
    "<a href=\"https://www.codingninjas.in/\">Link to Coding Ninjas Website</a>\\\n",
    "<ul><li>This</li><li>is</li><li>an</li><li>unordered</li><li>list.</li></ul>\\\n",
    "</div><p id = \"template_p\">This is a template paragraph tag</p>\\\n",
    "<a href = \"https://www.facebook.com/codingninjas/\">\\\n",
    "This is the link of our Facebook Page</a></body></html>'\n",
    "\n",
    "from bs4 import BeautifulSoup as bs\n",
    "bsData = bs(html, \"html.parser\")\n",
    "print(bsData.body)"
   ]
  },
  {
   "source": [
    "### Attributes of div tag\n",
    "You are given the HTML content of a webpage, your task is to :\n",
    "Print the name of all attributes of first div tag of the page\n",
    "NOTE : You are provided the HTML content inside variable html"
   ],
   "cell_type": "markdown",
   "metadata": {}
  },
  {
   "cell_type": "code",
   "execution_count": 13,
   "metadata": {},
   "outputs": [
    {
     "output_type": "stream",
     "name": "stdout",
     "text": [
      "class\n"
     ]
    }
   ],
   "source": [
    "html = '<!DOCTYPE html><html><head><title>Learning Beautiful Soup</title></head>\\\n",
    "<body><h1> About Us </h1><div class = \"first_div\"><p>Coding Ninjas Website</p>\\\n",
    "<a href=\"https://www.codingninjas.in/\">Link to Coding Ninjas Website</a>\\\n",
    "<ul><li>This</li><li>is</li><li>an</li><li>unordered</li><li>list.</li></ul>\\\n",
    "</div><p id = \"template_p\">This is a template paragraph tag</p>\\\n",
    "<a href = \"https://www.facebook.com/codingninjas/\">\\\n",
    "This is the link of our Facebook Page</a></body></html>'\n",
    "\n",
    "from bs4 import BeautifulSoup as bs\n",
    "bsData = bs(html, \"html.parser\")\n",
    "#print(bsData.div.attrs)\n",
    "for i in bsData.div.attrs:\n",
    "    print(i)"
   ]
  },
  {
   "source": [
    "### Strings of li\n",
    "You are given the HTML content of a webpage, your task is to :\n",
    "Print the strings(only text without tag names) of all li tags separated by a space\n",
    "NOTE : You are provided the HTML content inside variable html"
   ],
   "cell_type": "markdown",
   "metadata": {}
  },
  {
   "cell_type": "code",
   "execution_count": 29,
   "metadata": {},
   "outputs": [
    {
     "output_type": "stream",
     "name": "stdout",
     "text": [
      "[<li>This</li>, <li>is</li>, <li>an</li>, <li>unordered</li>, <li>list.</li>]\nThis is an unordered list. "
     ]
    }
   ],
   "source": [
    "\n",
    "html = '<!DOCTYPE html><html><head><title>Learning Beautiful Soup</title></head>\\\n",
    "<body><h1> About Us </h1><div class = \"first_div\"><p>Coding Ninjas Website</p>\\\n",
    "<a href=\"https://www.codingninjas.in/\">Link to Coding Ninjas Website</a>\\\n",
    "<ul><li>This</li><li>is</li><li>an</li><li>unordered</li><li>list.</li></ul>\\\n",
    "</div><p id = \"template_p\">This is a template paragraph tag</p>\\\n",
    "<a href = \"https://www.facebook.com/codingninjas/\">\\\n",
    "This is the link of our Facebook Page</a></body></html>'\n",
    "\n",
    "    \n",
    "from bs4 import BeautifulSoup as bs \n",
    "bsData = bs(html, \"html.parser\")\n",
    "#print(bsData.prettify())\n",
    "li=bsData.find_all(\"li\")\n",
    "#print(li)\n",
    "for i in range(len(li)):\n",
    "    print(li[i].text,end=\" \")   \n"
   ]
  },
  {
   "source": [
    "### href of A tag\n",
    "You are given the HTML content of a webpage, your task is to :\n",
    "Print the href of all the <a> tags on the page in different lines\n",
    "NOTE : You are provided the HTML content inside variable html"
   ],
   "cell_type": "markdown",
   "metadata": {}
  },
  {
   "cell_type": "code",
   "execution_count": 50,
   "metadata": {},
   "outputs": [
    {
     "output_type": "stream",
     "name": "stdout",
     "text": [
      "https://www.codingninjas.in/\nhttps://www.facebook.com/codingninjas/\n"
     ]
    }
   ],
   "source": [
    "html = '<!DOCTYPE html><html><head><title>Learning Beautiful Soup</title></head>\\\n",
    "<body><h1> About Us </h1><div class = \"first_div\"><p>Coding Ninjas Website</p>\\\n",
    "<a href=\"https://www.codingninjas.in/\">Link to Coding Ninjas Website</a>\\\n",
    "<ul><li>This</li><li>is</li><li>an</li><li>unordered</li><li>list.</li></ul>\\\n",
    "</div><p id = \"template_p\">This is a template paragraph tag</p>\\\n",
    "<a href = \"https://www.facebook.com/codingninjas/\">\\\n",
    "This is the link of our Facebook Page</a></body></html>'\n",
    "\n",
    "from bs4 import BeautifulSoup as bs \n",
    "bsData = bs(html,\"html.parser\")\n",
    "href = bsData.findAll(\"a\")\n",
    "#print(href)\n",
    "\n",
    "for i in href:\n",
    "    #print(type(i),i ,sep=\" : \")\n",
    "    print(i['href'])"
   ]
  },
  {
   "cell_type": "code",
   "execution_count": 51,
   "metadata": {},
   "outputs": [
    {
     "output_type": "stream",
     "name": "stdout",
     "text": [
      "https://www.codingninjas.in/\nhttps://www.facebook.com/codingninjas/\n"
     ]
    }
   ],
   "source": [
    "# another way\n",
    "for a in bsData.find_all('a', href=True):\n",
    "    print (a['href'])"
   ]
  },
  {
   "source": [
    "### Descendants and children\n",
    "You are given the HTML content of a webpage, your task is to :\n",
    "Print the difference between the number of descendants and the number of children of the html tag\n",
    "NOTE : You are provided the HTML content inside variable html"
   ],
   "cell_type": "markdown",
   "metadata": {}
  },
  {
   "cell_type": "code",
   "execution_count": 15,
   "metadata": {},
   "outputs": [
    {
     "output_type": "stream",
     "name": "stdout",
     "text": [
      "32\n"
     ]
    }
   ],
   "source": [
    "html = '<!DOCTYPE html><html><head><title>Navigate Parse Tree</title></head>\\\n",
    "<body><h1>This is your Assignment</h1><a href = \"https://www.google.com\">This is a link that will take you to Google</a>\\\n",
    "<ul><li><p> This question is given to test your knowledge of <b>Web Scraping</b></p>\\\n",
    "<p>Web scraping is a term used to describe the use of a program or algorithm to extract and process large amounts of data from the web.</p></li>\\\n",
    "<li id = \"li2\">This is an li tag given to you for scraping</li>\\\n",
    "<li>This li tag gives you the various ways to get data from a website\\\n",
    "<ol><li class = \"list_or\">Using API of the website</li><li>Scrape data using BeautifulSoup</li><li>Scrape data using Selenium</li>\\\n",
    "<li>Scrape data using Scrapy</li></ol></li>\\\n",
    "<li class = \"list_or\"><a href=\"https://www.crummy.com/software/BeautifulSoup/bs4/doc/\">\\\n",
    "Clicking on this takes you to the documentation of BeautifulSoup</a>\\\n",
    "<a href=\"https://selenium-python.readthedocs.io/\" id=\"anchor\">Clicking on this takes you to the documentation of Selenium</a>\\\n",
    "</li></ul></body></html>'\n",
    "\n",
    "from bs4 import BeautifulSoup as soup \n",
    "bsData = soup(html,\"html.parser\")\n",
    "descLength = len(list(bsData.html.descendants))\n",
    "childLength = 0\n",
    "for i in bsData.html.children:\n",
    "    childLength += 1\n",
    "print(descLength - childLength)"
   ]
  },
  {
   "source": [
    "### Name of tags with ID\n",
    "You are given the HTML content of a webpage, your task is to :\n",
    "Print the name of all the tags in different lines that have an id attribute.\n",
    "NOTE : You are provided the HTML content inside variable html"
   ],
   "cell_type": "markdown",
   "metadata": {}
  },
  {
   "cell_type": "code",
   "execution_count": 6,
   "metadata": {},
   "outputs": [
    {
     "output_type": "stream",
     "name": "stdout",
     "text": [
      "li\na\n"
     ]
    }
   ],
   "source": [
    "html = '<!DOCTYPE html><html><head><title>Navigate Parse Tree</title></head>\\\n",
    "<body><h1>This is your Assignment</h1><a href = \"https://www.google.com\">This is a link that will take you to Google</a>\\\n",
    "<ul><li><p> This question is given to test your knowledge of <b>Web Scraping</b></p>\\\n",
    "<p>Web scraping is a term used to describe the use of a program or algorithm to extract and process large amounts of data from the web.</p></li>\\\n",
    "<li id = \"li2\">This is an li tag given to you for scraping</li>\\\n",
    "<li>This li tag gives you the various ways to get data from a website\\\n",
    "<ol><li class = \"list_or\">Using API of the website</li><li>Scrape data using BeautifulSoup</li><li>Scrape data using Selenium</li>\\\n",
    "<li>Scrape data using Scrapy</li></ol></li>\\\n",
    "<li class = \"list_or\"><a href=\"https://www.crummy.com/software/BeautifulSoup/bs4/doc/\">\\\n",
    "Clicking on this takes you to the documentation of BeautifulSoup</a>\\\n",
    "<a href=\"https://selenium-python.readthedocs.io/\" id=\"anchor\">Clicking on this takes you to the documentation of Selenium</a>\\\n",
    "</li></ul></body></html>'\n",
    "\n",
    "from bs4 import BeautifulSoup as soup\n",
    "bsData = soup(html, \"html.parser\")\n",
    "liID=bsData.find_all(id = True)\n",
    "#print(liID)\n",
    "for i in liID:\n",
    "    print(i.name)"
   ]
  },
  {
   "source": [
    "### Next Sibling\n",
    "You are given the HTML content of a webpage, your task is to :\n",
    "Print all content of the next siblings of the tag that have id as “li2”(in different lines)\n",
    "NOTE : Content includes the complete html of tag"
   ],
   "cell_type": "markdown",
   "metadata": {}
  },
  {
   "cell_type": "code",
   "execution_count": 21,
   "metadata": {},
   "outputs": [
    {
     "output_type": "stream",
     "name": "stdout",
     "text": [
      "<li>This li tag gives you the various ways to get data from a website<ol><li class=\"list_or\">Using API of the website</li><li>Scrape data using BeautifulSoup</li><li>Scrape data using Selenium</li><li>Scrape data using Scrapy</li></ol></li>\n<li class=\"list_or\"><a href=\"https://www.crummy.com/software/BeautifulSoup/bs4/doc/\">Clicking on this takes you to the documentation of BeautifulSoup</a><a href=\"https://selenium-python.readthedocs.io/\" id=\"anchor\">Clicking on this takes you to the documentation of Selenium</a></li>\n"
     ]
    }
   ],
   "source": [
    "html = '<!DOCTYPE html><html><head><title>Navigate Parse Tree</title></head>\\\n",
    "<body><h1>This is your Assignment</h1><a href = \"https://www.google.com\">This is a link that will take you to Google</a>\\\n",
    "<ul><li><p> This question is given to test your knowledge of <b>Web Scraping</b></p>\\\n",
    "<p>Web scraping is a term used to describe the use of a program or algorithm to extract and process large amounts of data from the web.</p></li>\\\n",
    "<li id = \"li2\">This is an li tag given to you for scraping</li>\\\n",
    "<li>This li tag gives you the various ways to get data from a website\\\n",
    "<ol><li class = \"list_or\">Using API of the website</li><li>Scrape data using BeautifulSoup</li><li>Scrape data using Selenium</li>\\\n",
    "<li>Scrape data using Scrapy</li></ol></li>\\\n",
    "<li class = \"list_or\"><a href=\"https://www.crummy.com/software/BeautifulSoup/bs4/doc/\">\\\n",
    "Clicking on this takes you to the documentation of BeautifulSoup</a>\\\n",
    "<a href=\"https://selenium-python.readthedocs.io/\" id=\"anchor\">Clicking on this takes you to the documentation of Selenium</a>\\\n",
    "</li></ul></body></html>'\n",
    "\n",
    "from bs4 import BeautifulSoup as soup \n",
    "bsData = soup(html, \"html.parser\")\n",
    "\n",
    "for sibling in bsData.find(id=\"li2\").next_siblings:\n",
    "    print(repr(sibling))\n"
   ]
  },
  {
   "source": [
    "### Parents of title\n",
    "You are given the HTML content of a webpage, your task is to :\n",
    "Print content of all the parents of the title tag(linewise)\n",
    "NOTE : Content includes the whole HTML of the tag"
   ],
   "cell_type": "markdown",
   "metadata": {}
  },
  {
   "cell_type": "code",
   "execution_count": 25,
   "metadata": {},
   "outputs": [
    {
     "output_type": "stream",
     "name": "stdout",
     "text": [
      "<head><title>Navigate Parse Tree</title></head>\n<html><head><title>Navigate Parse Tree</title></head><body><h1>This is your Assignment</h1><a href=\"https://www.google.com\">This is a link that will take you to Google</a><ul><li><p> This question is given to test your knowledge of <b>Web Scraping</b></p><p>Web scraping is a term used to describe the use of a program or algorithm to extract and process large amounts of data from the web.</p></li><li id=\"li2\">This is an li tag given to you for scraping</li><li>This li tag gives you the various ways to get data from a website<ol><li class=\"list_or\">Using API of the website</li><li>Scrape data using BeautifulSoup</li><li>Scrape data using Selenium</li><li>Scrape data using Scrapy</li></ol></li><li class=\"list_or\"><a href=\"https://www.crummy.com/software/BeautifulSoup/bs4/doc/\">Clicking on this takes you to the documentation of BeautifulSoup</a><a href=\"https://selenium-python.readthedocs.io/\" id=\"anchor\">Clicking on this takes you to the documentation of Selenium</a></li></ul></body></html>\n<!DOCTYPE html>\n<html><head><title>Navigate Parse Tree</title></head><body><h1>This is your Assignment</h1><a href=\"https://www.google.com\">This is a link that will take you to Google</a><ul><li><p> This question is given to test your knowledge of <b>Web Scraping</b></p><p>Web scraping is a term used to describe the use of a program or algorithm to extract and process large amounts of data from the web.</p></li><li id=\"li2\">This is an li tag given to you for scraping</li><li>This li tag gives you the various ways to get data from a website<ol><li class=\"list_or\">Using API of the website</li><li>Scrape data using BeautifulSoup</li><li>Scrape data using Selenium</li><li>Scrape data using Scrapy</li></ol></li><li class=\"list_or\"><a href=\"https://www.crummy.com/software/BeautifulSoup/bs4/doc/\">Clicking on this takes you to the documentation of BeautifulSoup</a><a href=\"https://selenium-python.readthedocs.io/\" id=\"anchor\">Clicking on this takes you to the documentation of Selenium</a></li></ul></body></html>\n"
     ]
    }
   ],
   "source": [
    "html = '<!DOCTYPE html><html><head><title>Navigate Parse Tree</title></head>\\\n",
    "<body><h1>This is your Assignment</h1><a href = \"https://www.google.com\">This is a link that will take you to Google</a>\\\n",
    "<ul><li><p> This question is given to test your knowledge of <b>Web Scraping</b></p>\\\n",
    "<p>Web scraping is a term used to describe the use of a program or algorithm to extract and process large amounts of data from the web.</p></li>\\\n",
    "<li id = \"li2\">This is an li tag given to you for scraping</li>\\\n",
    "<li>This li tag gives you the various ways to get data from a website\\\n",
    "<ol><li class = \"list_or\">Using API of the website</li><li>Scrape data using BeautifulSoup</li><li>Scrape data using Selenium</li>\\\n",
    "<li>Scrape data using Scrapy</li></ol></li>\\\n",
    "<li class = \"list_or\"><a href=\"https://www.crummy.com/software/BeautifulSoup/bs4/doc/\">\\\n",
    "Clicking on this takes you to the documentation of BeautifulSoup</a>\\\n",
    "<a href=\"https://selenium-python.readthedocs.io/\" id=\"anchor\">Clicking on this takes you to the documentation of Selenium</a>\\\n",
    "</li></ul></body></html>'\n",
    "\n",
    "from bs4 import BeautifulSoup as soup \n",
    "bsData = soup(html,\"html.parser\")\n",
    "link = bsData.title\n",
    "\n",
    "for parent in link.parents:\n",
    "    print(parent)"
   ]
  },
  {
   "source": [
    "### Next Element\n",
    "Print the string which is present inside the isecond <a> tag using BeautifulSoup's next_element property"
   ],
   "cell_type": "markdown",
   "metadata": {}
  },
  {
   "cell_type": "code",
   "execution_count": 38,
   "metadata": {},
   "outputs": [
    {
     "output_type": "stream",
     "name": "stdout",
     "text": [
      "[<a href=\"https://www.google.com\">This is a link that will take you to Google</a>, <a href=\"https://www.crummy.com/software/BeautifulSoup/bs4/doc/\">Clicking on this takes you to the documentation of BeautifulSoup</a>, <a href=\"https://selenium-python.readthedocs.io/\" id=\"anchor\">Clicking on this takes you to the documentation of Selenium</a>]\nClicking on this takes you to the documentation of BeautifulSoup\n"
     ]
    }
   ],
   "source": [
    "html = '<!DOCTYPE html><html><head><title>Navigate Parse Tree</title></head>\\\n",
    "<body><h1>This is your Assignment</h1><a href = \"https://www.google.com\">This is a link that will take you to Google</a>\\\n",
    "<ul><li><p> This question is given to test your knowledge of <b>Web Scraping</b></p>\\\n",
    "<p>Web scraping is a term used to describe the use of a program or algorithm to extract and process large amounts of data from the web.</p></li>\\\n",
    "<li id = \"li2\">This is an li tag given to you for scraping</li>\\\n",
    "<li>This li tag gives you the various ways to get data from a website\\\n",
    "<ol><li class = \"list_or\">Using API of the website</li><li>Scrape data using BeautifulSoup</li><li>Scrape data using Selenium</li>\\\n",
    "<li>Scrape data using Scrapy</li></ol></li>\\\n",
    "<li class = \"list_or\"><a href=\"https://www.crummy.com/software/BeautifulSoup/bs4/doc/\">\\\n",
    "Clicking on this takes you to the documentation of BeautifulSoup</a>\\\n",
    "<a href=\"https://selenium-python.readthedocs.io/\" id=\"anchor\">Clicking on this takes you to the documentation of Selenium</a>\\\n",
    "</li></ul></body></html>'\n",
    "\n",
    "\n",
    "\n",
    "from bs4 import BeautifulSoup as soup \n",
    "bsData = soup(html,\"html.parser\")\n",
    "print(bsData.find_all('a')[1].next_element)"
   ]
  },
  {
   "source": [
    "## First web page - http://info.cern.ch/hypertext/WWW/TheProject.html\n"
   ],
   "cell_type": "markdown",
   "metadata": {}
  },
  {
   "cell_type": "code",
   "execution_count": 13,
   "metadata": {},
   "outputs": [
    {
     "output_type": "stream",
     "name": "stdout",
     "text": [
      "<header>\n <title>\n  The World Wide Web project\n </title>\n <nextid n=\"55\"/>\n</header>\n<body>\n <h1>\n  World Wide Web\n </h1>\n The WorldWideWeb (W3) is a wide-area\n <a href=\"WhatIs.html\" name=\"0\">\n  hypermedia\n </a>\n information retrieval\ninitiative aiming to give universal\naccess to a large universe of documents.\n <p>\n  Everything there is online about\nW3 is linked directly or indirectly\nto this document, including an\n  <a href=\"Summary.html\" name=\"24\">\n   executive\nsummary\n  </a>\n  of the project,\n  <a href=\"Administration/Mailing/Overview.html\" name=\"29\">\n   Mailing lists\n  </a>\n  ,\n  <a href=\"Policy.html\" name=\"30\">\n   Policy\n  </a>\n  , November's\n  <a href=\"News/9211.html\" name=\"34\">\n   W3  news\n  </a>\n  ,\n  <a href=\"FAQ/List.html\" name=\"41\">\n   Frequently Asked Questions\n  </a>\n  .\n  <dl>\n   <dt>\n    <a href=\"../DataSources/Top.html\" name=\"44\">\n     What's out there?\n    </a>\n    <dd>\n     Pointers to the\nworld's online information,\n     <a href=\"../DataSources/bySubject/Overview.html\" name=\"45\">\n      subjects\n     </a>\n     ,\n     <a href=\"../DataSources/WWW/Servers.html\" name=\"z54\">\n      W3 servers\n     </a>\n     , etc.\n     <dt>\n      <a href=\"Help.html\" name=\"46\">\n       Help\n      </a>\n      <dd>\n       on the browser you are using\n       <dt>\n        <a href=\"Status.html\" name=\"13\">\n         Software Products\n        </a>\n        <dd>\n         A list of W3 project\ncomponents and their current state.\n(e.g.\n         <a href=\"LineMode/Browser.html\" name=\"27\">\n          Line Mode\n         </a>\n         ,X11\n         <a href=\"Status.html#35\" name=\"35\">\n          Viola\n         </a>\n         ,\n         <a href=\"NeXT/WorldWideWeb.html\" name=\"26\">\n          NeXTStep\n         </a>\n         ,\n         <a href=\"Daemon/Overview.html\" name=\"25\">\n          Servers\n         </a>\n         ,\n         <a href=\"Tools/Overview.html\" name=\"51\">\n          Tools\n         </a>\n         ,\n         <a href=\"MailRobot/Overview.html\" name=\"53\">\n          Mail robot\n         </a>\n         ,\n         <a href=\"Status.html#57\" name=\"52\">\n          Library\n         </a>\n         )\n         <dt>\n          <a href=\"Technical.html\" name=\"47\">\n           Technical\n          </a>\n          <dd>\n           Details of protocols, formats,\nprogram internals etc\n           <dt>\n            <a href=\"Bibliography.html\" name=\"40\">\n             Bibliography\n            </a>\n            <dd>\n             Paper documentation\non  W3 and references.\n             <dt>\n              <a href=\"People.html\" name=\"14\">\n               People\n              </a>\n              <dd>\n               A list of some people involved\nin the project.\n               <dt>\n                <a href=\"History.html\" name=\"15\">\n                 History\n                </a>\n                <dd>\n                 A summary of the history\nof the project.\n                 <dt>\n                  <a href=\"Helping.html\" name=\"37\">\n                   How can I help\n                  </a>\n                  ?\n                  <dd>\n                   If you would like\nto support the web..\n                   <dt>\n                    <a href=\"../README.html\" name=\"48\">\n                     Getting code\n                    </a>\n                    <dd>\n                     Getting the code by\n                     <a href=\"LineMode/Defaults/Distribution.html\" name=\"49\">\n                      anonymous FTP\n                     </a>\n                     , etc.\n                    </dd>\n                   </dt>\n                  </dd>\n                 </dt>\n                </dd>\n               </dt>\n              </dd>\n             </dt>\n            </dd>\n           </dt>\n          </dd>\n         </dt>\n        </dd>\n       </dt>\n      </dd>\n     </dt>\n    </dd>\n   </dt>\n  </dl>\n </p>\n</body>\n\n"
     ]
    }
   ],
   "source": [
    "from bs4 import BeautifulSoup as soup \n",
    "import requests\n",
    "\n",
    "response = requests.get(\"http://info.cern.ch/hypertext/WWW/TheProject.html\")\n",
    "#print(response)\n",
    "\n",
    "html = response.text\n",
    "htmlData = soup(html,\"html.parser\")\n",
    "print(htmlData.prettify())"
   ]
  },
  {
   "cell_type": "code",
   "execution_count": 10,
   "metadata": {},
   "outputs": [
    {
     "output_type": "execute_result",
     "data": {
      "text/plain": [
       "'World Wide Web'"
      ]
     },
     "metadata": {},
     "execution_count": 10
    }
   ],
   "source": [
    "# print heading\n",
    "htmlData.h1.string"
   ]
  },
  {
   "cell_type": "code",
   "execution_count": 14,
   "metadata": {},
   "outputs": [
    {
     "output_type": "stream",
     "name": "stdout",
     "text": [
      "\nThe World Wide Web project\n\n\n\nWorld Wide WebThe WorldWideWeb (W3) is a wide-area\nhypermedia information retrieval\ninitiative aiming to give universal\naccess to a large universe of documents.\nEverything there is online about\nW3 is linked directly or indirectly\nto this document, including an executive\nsummary of the project, Mailing lists\n, Policy , November's  W3  news ,\nFrequently Asked Questions .\n\nWhat's out there?\n Pointers to the\nworld's online information, subjects\n, W3 servers, etc.\nHelp\n on the browser you are using\nSoftware Products\n A list of W3 project\ncomponents and their current state.\n(e.g. Line Mode ,X11 Viola ,  NeXTStep\n, Servers , Tools , Mail robot ,\nLibrary )\nTechnical\n Details of protocols, formats,\nprogram internals etc\nBibliography\n Paper documentation\non  W3 and references.\nPeople\n A list of some people involved\nin the project.\nHistory\n A summary of the history\nof the project.\nHow can I help ?\n If you would like\nto support the web..\nGetting code\n Getting the code by\nanonymous FTP , etc.\n\n\n\n"
     ]
    }
   ],
   "source": [
    "# Print all text\n",
    "print(htmlData.get_text())"
   ]
  },
  {
   "cell_type": "code",
   "execution_count": 15,
   "metadata": {},
   "outputs": [
    {
     "output_type": "execute_result",
     "data": {
      "text/plain": [
       "<a href=\"WhatIs.html\" name=\"0\">\n",
       "hypermedia</a>"
      ]
     },
     "metadata": {},
     "execution_count": 15
    }
   ],
   "source": [
    "# Print first hyperlink contents\n",
    "htmlData.a "
   ]
  },
  {
   "cell_type": "code",
   "execution_count": 16,
   "metadata": {},
   "outputs": [
    {
     "output_type": "execute_result",
     "data": {
      "text/plain": [
       "'WhatIs.html'"
      ]
     },
     "metadata": {},
     "execution_count": 16
    }
   ],
   "source": [
    "# first hyperlink\n",
    "htmlData.a[\"href\"]"
   ]
  },
  {
   "cell_type": "code",
   "execution_count": 18,
   "metadata": {},
   "outputs": [
    {
     "output_type": "stream",
     "name": "stdout",
     "text": [
      "25\n"
     ]
    }
   ],
   "source": [
    "# total hyperlink count\n",
    "li = htmlData.find_all(\"a\")\n",
    "print(len(li))"
   ]
  },
  {
   "cell_type": "code",
   "execution_count": 19,
   "metadata": {},
   "outputs": [
    {
     "output_type": "stream",
     "name": "stdout",
     "text": [
      "<a href=\"WhatIs.html\" name=\"0\">\nhypermedia</a>\n<a href=\"Summary.html\" name=\"24\">executive\nsummary</a>\n<a href=\"Administration/Mailing/Overview.html\" name=\"29\">Mailing lists</a>\n<a href=\"Policy.html\" name=\"30\">Policy</a>\n<a href=\"News/9211.html\" name=\"34\">W3  news</a>\n<a href=\"FAQ/List.html\" name=\"41\">Frequently Asked Questions</a>\n<a href=\"../DataSources/Top.html\" name=\"44\">What's out there?</a>\n<a href=\"../DataSources/bySubject/Overview.html\" name=\"45\"> subjects</a>\n<a href=\"../DataSources/WWW/Servers.html\" name=\"z54\">W3 servers</a>\n<a href=\"Help.html\" name=\"46\">Help</a>\n<a href=\"Status.html\" name=\"13\">Software Products</a>\n<a href=\"LineMode/Browser.html\" name=\"27\">Line Mode</a>\n<a href=\"Status.html#35\" name=\"35\">Viola</a>\n<a href=\"NeXT/WorldWideWeb.html\" name=\"26\">NeXTStep</a>\n<a href=\"Daemon/Overview.html\" name=\"25\">Servers</a>\n<a href=\"Tools/Overview.html\" name=\"51\">Tools</a>\n<a href=\"MailRobot/Overview.html\" name=\"53\"> Mail robot</a>\n<a href=\"Status.html#57\" name=\"52\">\nLibrary</a>\n<a href=\"Technical.html\" name=\"47\">Technical</a>\n<a href=\"Bibliography.html\" name=\"40\">Bibliography</a>\n<a href=\"People.html\" name=\"14\">People</a>\n<a href=\"History.html\" name=\"15\">History</a>\n<a href=\"Helping.html\" name=\"37\">How can I help</a>\n<a href=\"../README.html\" name=\"48\">Getting code</a>\n<a href=\"LineMode/Defaults/Distribution.html\" name=\"49\">\nanonymous FTP</a>\n"
     ]
    }
   ],
   "source": [
    "# print all hyperlink\n",
    "for i in li:\n",
    "    print(i)"
   ]
  },
  {
   "cell_type": "code",
   "execution_count": 21,
   "metadata": {},
   "outputs": [
    {
     "output_type": "stream",
     "name": "stdout",
     "text": [
      "\nhypermedia\nexecutive\nsummary\nMailing lists\nPolicy\nW3  news\nFrequently Asked Questions\nWhat's out there?\n subjects\nW3 servers\nHelp\nSoftware Products\nLine Mode\nViola\nNeXTStep\nServers\nTools\n Mail robot\n\nLibrary\nTechnical\nBibliography\nPeople\nHistory\nHow can I help\nGetting code\n\nanonymous FTP\n"
     ]
    }
   ],
   "source": [
    "# print  names of all hyperlink\n",
    "for i in li:\n",
    "    print(i.string)"
   ]
  },
  {
   "cell_type": "code",
   "execution_count": 25,
   "metadata": {},
   "outputs": [
    {
     "output_type": "stream",
     "name": "stdout",
     "text": [
      "../DataSources/Top.html\n../DataSources/bySubject/Overview.html\n../DataSources/WWW/Servers.html\nHelp.html\nStatus.html\nLineMode/Browser.html\nStatus.html#35\nNeXT/WorldWideWeb.html\nDaemon/Overview.html\nTools/Overview.html\nMailRobot/Overview.html\nStatus.html#57\nTechnical.html\nBibliography.html\nPeople.html\nHistory.html\nHelping.html\n../README.html\nLineMode/Defaults/Distribution.html\n"
     ]
    }
   ],
   "source": [
    "li2 = htmlData.dl.find_all(\"a\")\n",
    "for i in li2:\n",
    "    print(i[\"href\"])"
   ]
  },
  {
   "cell_type": "code",
   "execution_count": 29,
   "metadata": {},
   "outputs": [
    {
     "output_type": "stream",
     "name": "stdout",
     "text": [
      "What's out there?\nHelp\nSoftware Products\nTechnical\nBibliography\nPeople\nHistory\nHow can I help\nGetting code\n"
     ]
    }
   ],
   "source": [
    "li3 = htmlData.dl.find_all(\"dt\")\n",
    "for i in li3:\n",
    "    print(i.a.string)"
   ]
  },
  {
   "source": [
    "### Book Names from First Page\n",
    "Print the title of all 20 books which are present on first page of this website."
   ],
   "cell_type": "markdown",
   "metadata": {}
  },
  {
   "cell_type": "code",
   "execution_count": 43,
   "metadata": {
    "tags": []
   },
   "outputs": [
    {
     "output_type": "stream",
     "name": "stdout",
     "text": [
      "A Light in the Attic\nTipping the Velvet\nSoumission\nSharp Objects\nSapiens: A Brief History of Humankind\nThe Requiem Red\nThe Dirty Little Secrets of Getting Your Dream Job\nThe Coming Woman: A Novel Based on the Life of the Infamous Feminist, Victoria Woodhull\nThe Boys in the Boat: Nine Americans and Their Epic Quest for Gold at the 1936 Berlin Olympics\nThe Black Maria\nStarving Hearts (Triangular Trade Trilogy, #1)\nShakespeare's Sonnets\nSet Me Free\nScott Pilgrim's Precious Little Life (Scott Pilgrim #1)\nRip it Up and Start Again\nOur Band Could Be Your Life: Scenes from the American Indie Underground, 1981-1991\nOlio\nMesaerion: The Best Science Fiction Stories 1800-1849\nLibertarianism for Beginners\nIt's Only the Himalayas\n"
     ]
    }
   ],
   "source": [
    "from bs4 import BeautifulSoup as soup \n",
    "import requests \n",
    "baseUrl = \"http://books.toscrape.com/\"\n",
    "bsData = soup(requests.get(baseUrl).text,\"html.parser\")\n",
    "#print(bsData.prettify())\n",
    "books = bsData.find_all(class_=\"product_pod\")\n",
    "for i in books:\n",
    "    print(i.h3.a[\"title\"])"
   ]
  },
  {
   "source": [
    "### All Categories\n",
    "Print the name of all categories which are present this website."
   ],
   "cell_type": "markdown",
   "metadata": {}
  },
  {
   "cell_type": "code",
   "execution_count": 89,
   "metadata": {},
   "outputs": [
    {
     "output_type": "stream",
     "name": "stdout",
     "text": [
      "Travel\nMystery\nHistorical Fiction\nSequential Art\nClassics\nPhilosophy\nRomance\nWomens Fiction\nFiction\nChildrens\nReligion\nNonfiction\nMusic\nDefault\nScience Fiction\nSports and Games\nAdd a comment\nFantasy\nNew Adult\nYoung Adult\nScience\nPoetry\nParanormal\nArt\nPsychology\nAutobiography\nParenting\nAdult Fiction\nHumor\nHorror\nHistory\nFood and Drink\nChristian Fiction\nBusiness\nBiography\nThriller\nContemporary\nSpirituality\nAcademic\nSelf Help\nHistorical\nChristian\nSuspense\nShort Stories\nNovels\nHealth\nPolitics\nCultural\nErotica\nCrime\n"
     ]
    }
   ],
   "source": [
    "from bs4 import BeautifulSoup as soup \n",
    "import requests\n",
    "baseUrl = \"http://books.toscrape.com/\"\n",
    "bsData = soup(requests.get(baseUrl).text, \"html.parser\")\n",
    "\n",
    "categories = bsData.find(class_ = \"nav nav-list\").ul\n",
    "items = categories.find_all('li')\n",
    "for i in items : \n",
    "    print(i.a.string.strip())"
   ]
  },
  {
   "cell_type": "code",
   "execution_count": 112,
   "metadata": {
    "tags": []
   },
   "outputs": [
    {
     "output_type": "stream",
     "name": "stdout",
     "text": [
      "Travel\nMystery\nHistorical Fiction\nSequential Art\nClassics\nPhilosophy\nRomance\nWomens Fiction\nFiction\nChildrens\nReligion\nNonfiction\nMusic\nDefault\nScience Fiction\nSports and Games\nAdd a comment\nFantasy\nNew Adult\nYoung Adult\nScience\nPoetry\nParanormal\nArt\nPsychology\nAutobiography\nParenting\nAdult Fiction\nHumor\nHorror\nHistory\nFood and Drink\nChristian Fiction\nBusiness\nBiography\nThriller\nContemporary\nSpirituality\nAcademic\nSelf Help\nHistorical\nChristian\nSuspense\nShort Stories\nNovels\nHealth\nPolitics\nCultural\nErotica\nCrime\n"
     ]
    }
   ],
   "source": [
    "for i in (bsData.find_all(class_ = \"nav nav-list\")[0].find_all(\"li\")):\n",
    "    if i.a.string.strip()!=\"Books\":\n",
    "        print(i.a.string.strip())"
   ]
  },
  {
   "source": [
    "### All Book Names\n",
    "Print the title of all books which are present on first 10 pages of this website."
   ],
   "cell_type": "markdown",
   "metadata": {}
  },
  {
   "cell_type": "code",
   "execution_count": 117,
   "metadata": {},
   "outputs": [
    {
     "output_type": "stream",
     "name": "stdout",
     "text": [
      "A Light in the Attic\n",
      "Tipping the Velvet\n",
      "Soumission\n",
      "Sharp Objects\n",
      "Sapiens: A Brief History of Humankind\n",
      "The Requiem Red\n",
      "The Dirty Little Secrets of Getting Your Dream Job\n",
      "The Coming Woman: A Novel Based on the Life of the Infamous Feminist, Victoria Woodhull\n",
      "The Boys in the Boat: Nine Americans and Their Epic Quest for Gold at the 1936 Berlin Olympics\n",
      "The Black Maria\n",
      "Starving Hearts (Triangular Trade Trilogy, #1)\n",
      "Shakespeare's Sonnets\n",
      "Set Me Free\n",
      "Scott Pilgrim's Precious Little Life (Scott Pilgrim #1)\n",
      "Rip it Up and Start Again\n",
      "Our Band Could Be Your Life: Scenes from the American Indie Underground, 1981-1991\n",
      "Olio\n",
      "Mesaerion: The Best Science Fiction Stories 1800-1849\n",
      "Libertarianism for Beginners\n",
      "It's Only the Himalayas\n",
      "In Her Wake\n",
      "How Music Works\n",
      "Foolproof Preserving: A Guide to Small Batch Jams, Jellies, Pickles, Condiments, and More: A Foolproof Guide to Making Small Batch Jams, Jellies, Pickles, Condiments, and More\n",
      "Chase Me (Paris Nights #2)\n",
      "Black Dust\n",
      "Birdsong: A Story in Pictures\n",
      "America's Cradle of Quarterbacks: Western Pennsylvania's Football Factory from Johnny Unitas to Joe Montana\n",
      "Aladdin and His Wonderful Lamp\n",
      "Worlds Elsewhere: Journeys Around Shakespeareâs Globe\n",
      "Wall and Piece\n",
      "The Four Agreements: A Practical Guide to Personal Freedom\n",
      "The Five Love Languages: How to Express Heartfelt Commitment to Your Mate\n",
      "The Elephant Tree\n",
      "The Bear and the Piano\n",
      "Sophie's World\n",
      "Penny Maybe\n",
      "Maude (1883-1993):She Grew Up with the country\n",
      "In a Dark, Dark Wood\n",
      "Behind Closed Doors\n",
      "You can't bury them all: Poems\n",
      "Slow States of Collapse: Poems\n",
      "Reasons to Stay Alive\n",
      "Private Paris (Private #10)\n",
      "#HigherSelfie: Wake Up Your Life. Free Your Soul. Find Your Tribe.\n",
      "Without Borders (Wanderlove #1)\n",
      "When We Collided\n",
      "We Love You, Charlie Freeman\n",
      "Untitled Collection: Sabbath Poems 2014\n",
      "Unseen City: The Majesty of Pigeons, the Discreet Charm of Snails & Other Wonders of the Urban Wilderness\n",
      "Unicorn Tracks\n",
      "Unbound: How Eight Technologies Made Us Human, Transformed Society, and Brought Our World to the Brink\n",
      "Tsubasa: WoRLD CHRoNiCLE 2 (Tsubasa WoRLD CHRoNiCLE #2)\n",
      "Throwing Rocks at the Google Bus: How Growth Became the Enemy of Prosperity\n",
      "This One Summer\n",
      "Thirst\n",
      "The Torch Is Passed: A Harding Family Story\n",
      "The Secret of Dreadwillow Carse\n",
      "The Pioneer Woman Cooks: Dinnertime: Comfort Classics, Freezer Food, 16-Minute Meals, and Other Delicious Ways to Solve Supper!\n",
      "The Past Never Ends\n",
      "The Natural History of Us (The Fine Art of Pretending #2)\n",
      "The Nameless City (The Nameless City #1)\n",
      "The Murder That Never Was (Forensic Instincts #5)\n",
      "The Most Perfect Thing: Inside (and Outside) a Bird's Egg\n",
      "The Mindfulness and Acceptance Workbook for Anxiety: A Guide to Breaking Free from Anxiety, Phobias, and Worry Using Acceptance and Commitment Therapy\n",
      "The Life-Changing Magic of Tidying Up: The Japanese Art of Decluttering and Organizing\n",
      "The Inefficiency Assassin: Time Management Tactics for Working Smarter, Not Longer\n",
      "The Gutsy Girl: Escapades for Your Life of Epic Adventure\n",
      "The Electric Pencil: Drawings from Inside State Hospital No. 3\n",
      "The Death of Humanity: and the Case for Life\n",
      "The Bulletproof Diet: Lose up to a Pound a Day, Reclaim Energy and Focus, Upgrade Your Life\n",
      "The Art Forger\n",
      "The Age of Genius: The Seventeenth Century and the Birth of the Modern Mind\n",
      "The Activist's Tao Te Ching: Ancient Advice for a Modern Revolution\n",
      "Spark Joy: An Illustrated Master Class on the Art of Organizing and Tidying Up\n",
      "Soul Reader\n",
      "Security\n",
      "Saga, Volume 6 (Saga (Collected Editions) #6)\n",
      "Saga, Volume 5 (Saga (Collected Editions) #5)\n",
      "Reskilling America: Learning to Labor in the Twenty-First Century\n",
      "Rat Queens, Vol. 3: Demons (Rat Queens (Collected Editions) #11-15)\n",
      "Princess Jellyfish 2-in-1 Omnibus, Vol. 01 (Princess Jellyfish 2-in-1 Omnibus #1)\n",
      "Princess Between Worlds (Wide-Awake Princess #5)\n",
      "Pop Gun War, Volume 1: Gift\n",
      "Political Suicide: Missteps, Peccadilloes, Bad Calls, Backroom Hijinx, Sordid Pasts, Rotten Breaks, and Just Plain Dumb Mistakes in the Annals of American Politics\n",
      "Patience\n",
      "Outcast, Vol. 1: A Darkness Surrounds Him (Outcast #1)\n",
      "orange: The Complete Collection 1 (orange: The Complete Collection #1)\n",
      "Online Marketing for Busy Authors: A Step-By-Step Guide\n",
      "On a Midnight Clear\n",
      "Obsidian (Lux #1)\n",
      "My Paris Kitchen: Recipes and Stories\n",
      "Masks and Shadows\n",
      "Mama Tried: Traditional Italian Cooking for the Screwed, Crude, Vegan, and Tattooed\n",
      "Lumberjanes, Vol. 2: Friendship to the Max (Lumberjanes #5-8)\n",
      "Lumberjanes, Vol. 1: Beware the Kitten Holy (Lumberjanes #1-4)\n",
      "Lumberjanes Vol. 3: A Terrible Plan (Lumberjanes #9-12)\n",
      "Layered: Baking, Building, and Styling Spectacular Cakes\n",
      "Judo: Seven Steps to Black Belt (an Introductory Guide for Beginners)\n",
      "Join\n",
      "In the Country We Love: My Family Divided\n",
      "Immunity: How Elie Metchnikoff Changed the Course of Modern Medicine\n",
      "I Hate Fairyland, Vol. 1: Madly Ever After (I Hate Fairyland (Compilations) #1-5)\n",
      "I am a Hero Omnibus Volume 1\n",
      "How to Be Miserable: 40 Strategies You Already Use\n",
      "Her Backup Boyfriend (The Sorensen Family #1)\n",
      "Giant Days, Vol. 2 (Giant Days #5-8)\n",
      "Forever and Forever: The Courtship of Henry Longfellow and Fanny Appleton\n",
      "First and First (Five Boroughs #3)\n",
      "Fifty Shades Darker (Fifty Shades #2)\n",
      "Everydata: The Misinformation Hidden in the Little Data You Consume Every Day\n",
      "Don't Be a Jerk: And Other Practical Advice from Dogen, Japan's Greatest Zen Master\n",
      "Danganronpa Volume 1\n",
      "Crown of Midnight (Throne of Glass #2)\n",
      "Codename Baboushka, Volume 1: The Conclave of Death\n",
      "Camp Midnight\n",
      "Call the Nurse: True Stories of a Country Nurse on a Scottish Isle\n",
      "Burning\n",
      "Bossypants\n",
      "Bitch Planet, Vol. 1: Extraordinary Machine (Bitch Planet (Collected Editions))\n",
      "Avatar: The Last Airbender: Smoke and Shadow, Part 3 (Smoke and Shadow #3)\n",
      "Algorithms to Live By: The Computer Science of Human Decisions\n",
      "A World of Flavor: Your Gluten Free Passport\n",
      "A Piece of Sky, a Grain of Rice: A Memoir in Four Meditations\n",
      "A Murder in Time\n",
      "A Flight of Arrows (The Pathfinders #2)\n",
      "A Fierce and Subtle Poison\n",
      "A Court of Thorns and Roses (A Court of Thorns and Roses #1)\n",
      "(Un)Qualified: How God Uses Broken People to Do Big Things\n",
      "You Are What You Love: The Spiritual Power of Habit\n",
      "William Shakespeare's Star Wars: Verily, A New Hope (William Shakespeare's Star Wars #4)\n",
      "Tuesday Nights in 1980\n",
      "Tracing Numbers on a Train\n",
      "Throne of Glass (Throne of Glass #1)\n",
      "Thomas Jefferson and the Tripoli Pirates: The Forgotten War That Changed American History\n",
      "Thirteen Reasons Why\n",
      "The White Cat and the Monk: A Retelling of the Poem âPangur BÃ¡nâ\n",
      "The Wedding Dress\n",
      "The Vacationers\n",
      "The Third Wave: An Entrepreneurâs Vision of the Future\n",
      "The Stranger\n",
      "The Shadow Hero (The Shadow Hero)\n",
      "The Secret (The Secret #1)\n",
      "The Regional Office Is Under Attack!\n",
      "The Psychopath Test: A Journey Through the Madness Industry\n",
      "The Project\n",
      "The Power of Now: A Guide to Spiritual Enlightenment\n",
      "The Omnivore's Dilemma: A Natural History of Four Meals\n",
      "The Nerdy Nummies Cookbook: Sweet Treats for the Geek in All of Us\n",
      "The Murder of Roger Ackroyd (Hercule Poirot #4)\n",
      "The Mistake (Off-Campus #2)\n",
      "The Matchmaker's Playbook (Wingmen Inc. #1)\n",
      "The Love and Lemons Cookbook: An Apple-to-Zucchini Celebration of Impromptu Cooking\n",
      "The Long Shadow of Small Ghosts: Murder and Memory in an American City\n",
      "The Kite Runner\n",
      "The House by the Lake\n",
      "The Glittering Court (The Glittering Court #1)\n",
      "The Girl on the Train\n",
      "The Genius of Birds\n",
      "The Emerald Mystery\n",
      "The Cookies & Cups Cookbook: 125+ sweet & savory recipes reminding you to Always Eat Dessert First\n",
      "The Bridge to Consciousness: I'm Writing the Bridge Between Science and Our Old and New Beliefs.\n",
      "The Artist's Way: A Spiritual Path to Higher Creativity\n",
      "The Art of War\n",
      "The Argonauts\n",
      "The 10% Entrepreneur: Live Your Startup Dream Without Quitting Your Day Job\n",
      "Suddenly in Love (Lake Haven #1)\n",
      "Something More Than This\n",
      "Soft Apocalypse\n",
      "So You've Been Publicly Shamed\n",
      "Shoe Dog: A Memoir by the Creator of NIKE\n",
      "Shobu Samurai, Project Aryoku (#3)\n",
      "Secrets and Lace (Fatal Hearts #1)\n",
      "Scarlett Epstein Hates It Here\n",
      "Romero and Juliet: A Tragic Tale of Love and Zombies\n",
      "Redeeming Love\n",
      "Poses for Artists Volume 1 - Dynamic and Sitting Poses: An Essential Reference for Figure Drawing and the Human Form\n",
      "Poems That Make Grown Women Cry\n",
      "Nightingale, Sing\n",
      "Night Sky with Exit Wounds\n",
      "Mrs. Houdini\n",
      "Modern Romance\n",
      "Miss Peregrineâs Home for Peculiar Children (Miss Peregrineâs Peculiar Children #1)\n",
      "Louisa: The Extraordinary Life of Mrs. Adams\n",
      "Little Red\n",
      "Library of Souls (Miss Peregrineâs Peculiar Children #3)\n",
      "Large Print Heart of the Pride\n",
      "I Had a Nice Time And Other Lies...: How to find love & sh*t like that\n",
      "Hollow City (Miss Peregrineâs Peculiar Children #2)\n",
      "Grumbles\n",
      "Full Moon over Noahâs Ark: An Odyssey to Mount Ararat and Beyond\n",
      "Frostbite (Vampire Academy #2)\n",
      "Follow You Home\n",
      "First Steps for New Christians (Print Edition)\n",
      "Finders Keepers (Bill Hodges Trilogy #2)\n",
      "Fables, Vol. 1: Legends in Exile (Fables #1)\n",
      "Eureka Trivia 6.0\n",
      "Drive: The Surprising Truth About What Motivates Us\n",
      "Done Rubbed Out (Reightman & Bailey #1)\n",
      "Doing It Over (Most Likely To #1)\n",
      "Deliciously Ella Every Day: Quick and Easy Recipes for Gluten-Free Snacks, Packed Lunches, and Simple Meals\n"
     ]
    }
   ],
   "source": [
    "allPages = ['http://books.toscrape.com/catalogue/page-1.html',\n",
    "            'http://books.toscrape.com/catalogue/page-2.html',\n",
    "            'http://books.toscrape.com/catalogue/page-3.html',\n",
    "            'http://books.toscrape.com/catalogue/page-4.html',\n",
    "            'http://books.toscrape.com/catalogue/page-5.html',\n",
    "            'http://books.toscrape.com/catalogue/page-6.html',\n",
    "            'http://books.toscrape.com/catalogue/page-7.html',\n",
    "            'http://books.toscrape.com/catalogue/page-8.html',\n",
    "            'http://books.toscrape.com/catalogue/page-9.html',\n",
    "            'http://books.toscrape.com/catalogue/page-10.html']\n",
    "from bs4 import BeautifulSoup as soup \n",
    "import requests\n",
    "for page in allPages:\n",
    "    response = requests.get(page)\n",
    "    bsData =soup(response.text,\"html.parser\")\n",
    "\n",
    "    books = bsData.find_all(class_=\"product_pod\")\n",
    "    for book in books:\n",
    "        print(book.h3.a[\"title\"])\n"
   ]
  },
  {
   "source": [
    "### Book Details\n",
    "Find and print the details of all books which are present on first 2 pages of this website.\n",
    "All details include - Title of the book, book page url, Price (in float, without any currency or extra symbol), and quantity in stock (in integer). Save all the details in a dataframe and print in the required format."
   ],
   "cell_type": "markdown",
   "metadata": {}
  },
  {
   "cell_type": "code",
   "execution_count": 157,
   "metadata": {},
   "outputs": [
    {
     "output_type": "stream",
     "name": "stdout",
     "text": [
      "A Light in the Attic http://books.toscrape.com/catalogue/a-light-in-the-attic_1000/index.html 51.77 22\nTipping the Velvet http://books.toscrape.com/catalogue/tipping-the-velvet_999/index.html 53.74 20\nSoumission http://books.toscrape.com/catalogue/soumission_998/index.html 50.1 20\nSharp Objects http://books.toscrape.com/catalogue/sharp-objects_997/index.html 47.82 20\nSapiens: A Brief History of Humankind http://books.toscrape.com/catalogue/sapiens-a-brief-history-of-humankind_996/index.html 54.23 20\nThe Requiem Red http://books.toscrape.com/catalogue/the-requiem-red_995/index.html 22.65 19\nThe Dirty Little Secrets of Getting Your Dream Job http://books.toscrape.com/catalogue/the-dirty-little-secrets-of-getting-your-dream-job_994/index.html 33.34 19\nThe Coming Woman: A Novel Based on the Life of the Infamous Feminist, Victoria Woodhull http://books.toscrape.com/catalogue/the-coming-woman-a-novel-based-on-the-life-of-the-infamous-feminist-victoria-woodhull_993/index.html 17.93 19\nThe Boys in the Boat: Nine Americans and Their Epic Quest for Gold at the 1936 Berlin Olympics http://books.toscrape.com/catalogue/the-boys-in-the-boat-nine-americans-and-their-epic-quest-for-gold-at-the-1936-berlin-olympics_992/index.html 22.6 19\nThe Black Maria http://books.toscrape.com/catalogue/the-black-maria_991/index.html 52.15 19\nStarving Hearts (Triangular Trade Trilogy, #1) http://books.toscrape.com/catalogue/starving-hearts-triangular-trade-trilogy-1_990/index.html 13.99 19\nShakespeare's Sonnets http://books.toscrape.com/catalogue/shakespeares-sonnets_989/index.html 20.66 19\nSet Me Free http://books.toscrape.com/catalogue/set-me-free_988/index.html 17.46 19\nScott Pilgrim's Precious Little Life (Scott Pilgrim #1) http://books.toscrape.com/catalogue/scott-pilgrims-precious-little-life-scott-pilgrim-1_987/index.html 52.29 19\nRip it Up and Start Again http://books.toscrape.com/catalogue/rip-it-up-and-start-again_986/index.html 35.02 19\nOur Band Could Be Your Life: Scenes from the American Indie Underground, 1981-1991 http://books.toscrape.com/catalogue/our-band-could-be-your-life-scenes-from-the-american-indie-underground-1981-1991_985/index.html 57.25 19\nOlio http://books.toscrape.com/catalogue/olio_984/index.html 23.88 19\nMesaerion: The Best Science Fiction Stories 1800-1849 http://books.toscrape.com/catalogue/mesaerion-the-best-science-fiction-stories-1800-1849_983/index.html 37.59 19\nLibertarianism for Beginners http://books.toscrape.com/catalogue/libertarianism-for-beginners_982/index.html 51.33 19\nIt's Only the Himalayas http://books.toscrape.com/catalogue/its-only-the-himalayas_981/index.html 45.17 19\nIn Her Wake http://books.toscrape.com/catalogue/in-her-wake_980/index.html 12.84 19\nHow Music Works http://books.toscrape.com/catalogue/how-music-works_979/index.html 37.32 19\nFoolproof Preserving: A Guide to Small Batch Jams, Jellies, Pickles, Condiments, and More: A Foolproof Guide to Making Small Batch Jams, Jellies, Pickles, Condiments, and More http://books.toscrape.com/catalogue/foolproof-preserving-a-guide-to-small-batch-jams-jellies-pickles-condiments-and-more-a-foolproof-guide-to-making-small-batch-jams-jellies-pickles-condiments-and-more_978/index.html 30.52 19\nChase Me (Paris Nights #2) http://books.toscrape.com/catalogue/chase-me-paris-nights-2_977/index.html 25.27 19\nBlack Dust http://books.toscrape.com/catalogue/black-dust_976/index.html 34.53 19\nBirdsong: A Story in Pictures http://books.toscrape.com/catalogue/birdsong-a-story-in-pictures_975/index.html 54.64 19\nAmerica's Cradle of Quarterbacks: Western Pennsylvania's Football Factory from Johnny Unitas to Joe Montana http://books.toscrape.com/catalogue/americas-cradle-of-quarterbacks-western-pennsylvanias-football-factory-from-johnny-unitas-to-joe-montana_974/index.html 22.5 19\nAladdin and His Wonderful Lamp http://books.toscrape.com/catalogue/aladdin-and-his-wonderful-lamp_973/index.html 53.13 19\nWorlds Elsewhere: Journeys Around Shakespeareâs Globe http://books.toscrape.com/catalogue/worlds-elsewhere-journeys-around-shakespeares-globe_972/index.html 40.3 18\nWall and Piece http://books.toscrape.com/catalogue/wall-and-piece_971/index.html 44.18 18\nThe Four Agreements: A Practical Guide to Personal Freedom http://books.toscrape.com/catalogue/the-four-agreements-a-practical-guide-to-personal-freedom_970/index.html 17.66 18\nThe Five Love Languages: How to Express Heartfelt Commitment to Your Mate http://books.toscrape.com/catalogue/the-five-love-languages-how-to-express-heartfelt-commitment-to-your-mate_969/index.html 31.05 18\nThe Elephant Tree http://books.toscrape.com/catalogue/the-elephant-tree_968/index.html 23.82 18\nThe Bear and the Piano http://books.toscrape.com/catalogue/the-bear-and-the-piano_967/index.html 36.89 18\nSophie's World http://books.toscrape.com/catalogue/sophies-world_966/index.html 15.94 18\nPenny Maybe http://books.toscrape.com/catalogue/penny-maybe_965/index.html 33.29 18\nMaude (1883-1993):She Grew Up with the country http://books.toscrape.com/catalogue/maude-1883-1993she-grew-up-with-the-country_964/index.html 18.02 18\nIn a Dark, Dark Wood http://books.toscrape.com/catalogue/in-a-dark-dark-wood_963/index.html 19.63 18\nBehind Closed Doors http://books.toscrape.com/catalogue/behind-closed-doors_962/index.html 52.22 18\nYou can't bury them all: Poems http://books.toscrape.com/catalogue/you-cant-bury-them-all-poems_961/index.html 33.63 17\n"
     ]
    }
   ],
   "source": [
    "allPages = ['http://books.toscrape.com/catalogue/page-1.html',\n",
    "            'http://books.toscrape.com/catalogue/page-2.html']\n",
    "\n",
    "column_names = ['Title', 'Link', 'Price', 'Quantity in Stock']\n",
    "baseUrl = \"http://books.toscrape.com/catalogue/\"\n",
    "\n",
    "from bs4 import BeautifulSoup as soup \n",
    "import pandas as pd \n",
    "import requests\n",
    "import re\n",
    "bookdetail = []\n",
    "for page in allPages:\n",
    "    response = requests.get(page)\n",
    "    bsData =soup(response.text,\"html.parser\")\n",
    "\n",
    "    books = bsData.find_all(class_=\"product_pod\")\n",
    "    #count=0\n",
    "    for book in books:\n",
    "        #if count < 1:\n",
    "        bookUrl = baseUrl+book.h3.a[\"href\"]\n",
    "        responsebook = requests.get(bookUrl)\n",
    "        soupbook = soup(responsebook.text, \"html.parser\")\n",
    "        booktitle = soupbook.h1.string\n",
    "           \n",
    "        bookprice = soupbook.find(class_ = \"price_color\").string\n",
    "        bookqty = soupbook.find(class_ = \"instock availability\").contents[-1].strip()\n",
    "        bookqty = int(re.search(\"\\d+\", bookqty).group())\n",
    "        bookprice = float(re.search(\"[\\d.]+\",bookprice).group())\n",
    "\n",
    "        bookdetail.append([booktitle,bookUrl,bookprice, bookqty])\n",
    "        #count += 1\n",
    "#print(bookdetail)\n",
    "df = pd.DataFrame(bookdetail, columns=column_names)\n",
    "for index,row in df.iterrows():\n",
    "    print(row[\"Title\"],row[\"Link\"],row[\"Price\"],row[\"Quantity in Stock\"])"
   ]
  },
  {
   "cell_type": "code",
   "execution_count": 153,
   "metadata": {},
   "outputs": [
    {
     "output_type": "execute_result",
     "data": {
      "text/plain": [
       "                                                Title  \\\n",
       "0                                A Light in the Attic   \n",
       "1                                  Tipping the Velvet   \n",
       "2                                          Soumission   \n",
       "3                                       Sharp Objects   \n",
       "4               Sapiens: A Brief History of Humankind   \n",
       "5                                     The Requiem Red   \n",
       "6   The Dirty Little Secrets of Getting Your Dream...   \n",
       "7   The Coming Woman: A Novel Based on the Life of...   \n",
       "8   The Boys in the Boat: Nine Americans and Their...   \n",
       "9                                     The Black Maria   \n",
       "10     Starving Hearts (Triangular Trade Trilogy, #1)   \n",
       "11                              Shakespeare's Sonnets   \n",
       "12                                        Set Me Free   \n",
       "13  Scott Pilgrim's Precious Little Life (Scott Pi...   \n",
       "14                          Rip it Up and Start Again   \n",
       "15  Our Band Could Be Your Life: Scenes from the A...   \n",
       "16                                               Olio   \n",
       "17  Mesaerion: The Best Science Fiction Stories 18...   \n",
       "18                       Libertarianism for Beginners   \n",
       "19                            It's Only the Himalayas   \n",
       "20                                        In Her Wake   \n",
       "21                                    How Music Works   \n",
       "22  Foolproof Preserving: A Guide to Small Batch J...   \n",
       "23                         Chase Me (Paris Nights #2)   \n",
       "24                                         Black Dust   \n",
       "25                      Birdsong: A Story in Pictures   \n",
       "26  America's Cradle of Quarterbacks: Western Penn...   \n",
       "27                     Aladdin and His Wonderful Lamp   \n",
       "28  Worlds Elsewhere: Journeys Around Shakespeareâ...   \n",
       "29                                     Wall and Piece   \n",
       "30  The Four Agreements: A Practical Guide to Pers...   \n",
       "31  The Five Love Languages: How to Express Heartf...   \n",
       "32                                  The Elephant Tree   \n",
       "33                             The Bear and the Piano   \n",
       "34                                     Sophie's World   \n",
       "35                                        Penny Maybe   \n",
       "36     Maude (1883-1993):She Grew Up with the country   \n",
       "37                               In a Dark, Dark Wood   \n",
       "38                                Behind Closed Doors   \n",
       "39                     You can't bury them all: Poems   \n",
       "\n",
       "                                                  URL  Price  Quantity  \n",
       "0   http://books.toscrape.com/catalogue/a-light-in...  51.77        22  \n",
       "1   http://books.toscrape.com/catalogue/tipping-th...  53.74        20  \n",
       "2   http://books.toscrape.com/catalogue/soumission...  50.10        20  \n",
       "3   http://books.toscrape.com/catalogue/sharp-obje...  47.82        20  \n",
       "4   http://books.toscrape.com/catalogue/sapiens-a-...  54.23        20  \n",
       "5   http://books.toscrape.com/catalogue/the-requie...  22.65        19  \n",
       "6   http://books.toscrape.com/catalogue/the-dirty-...  33.34        19  \n",
       "7   http://books.toscrape.com/catalogue/the-coming...  17.93        19  \n",
       "8   http://books.toscrape.com/catalogue/the-boys-i...  22.60        19  \n",
       "9   http://books.toscrape.com/catalogue/the-black-...  52.15        19  \n",
       "10  http://books.toscrape.com/catalogue/starving-h...  13.99        19  \n",
       "11  http://books.toscrape.com/catalogue/shakespear...  20.66        19  \n",
       "12  http://books.toscrape.com/catalogue/set-me-fre...  17.46        19  \n",
       "13  http://books.toscrape.com/catalogue/scott-pilg...  52.29        19  \n",
       "14  http://books.toscrape.com/catalogue/rip-it-up-...  35.02        19  \n",
       "15  http://books.toscrape.com/catalogue/our-band-c...  57.25        19  \n",
       "16  http://books.toscrape.com/catalogue/olio_984/i...  23.88        19  \n",
       "17  http://books.toscrape.com/catalogue/mesaerion-...  37.59        19  \n",
       "18  http://books.toscrape.com/catalogue/libertaria...  51.33        19  \n",
       "19  http://books.toscrape.com/catalogue/its-only-t...  45.17        19  \n",
       "20  http://books.toscrape.com/catalogue/in-her-wak...  12.84        19  \n",
       "21  http://books.toscrape.com/catalogue/how-music-...  37.32        19  \n",
       "22  http://books.toscrape.com/catalogue/foolproof-...  30.52        19  \n",
       "23  http://books.toscrape.com/catalogue/chase-me-p...  25.27        19  \n",
       "24  http://books.toscrape.com/catalogue/black-dust...  34.53        19  \n",
       "25  http://books.toscrape.com/catalogue/birdsong-a...  54.64        19  \n",
       "26  http://books.toscrape.com/catalogue/americas-c...  22.50        19  \n",
       "27  http://books.toscrape.com/catalogue/aladdin-an...  53.13        19  \n",
       "28  http://books.toscrape.com/catalogue/worlds-els...  40.30        18  \n",
       "29  http://books.toscrape.com/catalogue/wall-and-p...  44.18        18  \n",
       "30  http://books.toscrape.com/catalogue/the-four-a...  17.66        18  \n",
       "31  http://books.toscrape.com/catalogue/the-five-l...  31.05        18  \n",
       "32  http://books.toscrape.com/catalogue/the-elepha...  23.82        18  \n",
       "33  http://books.toscrape.com/catalogue/the-bear-a...  36.89        18  \n",
       "34  http://books.toscrape.com/catalogue/sophies-wo...  15.94        18  \n",
       "35  http://books.toscrape.com/catalogue/penny-mayb...  33.29        18  \n",
       "36  http://books.toscrape.com/catalogue/maude-1883...  18.02        18  \n",
       "37  http://books.toscrape.com/catalogue/in-a-dark-...  19.63        18  \n",
       "38  http://books.toscrape.com/catalogue/behind-clo...  52.22        18  \n",
       "39  http://books.toscrape.com/catalogue/you-cant-b...  33.63        17  "
      ],
      "text/html": "<div>\n<style scoped>\n    .dataframe tbody tr th:only-of-type {\n        vertical-align: middle;\n    }\n\n    .dataframe tbody tr th {\n        vertical-align: top;\n    }\n\n    .dataframe thead th {\n        text-align: right;\n    }\n</style>\n<table border=\"1\" class=\"dataframe\">\n  <thead>\n    <tr style=\"text-align: right;\">\n      <th></th>\n      <th>Title</th>\n      <th>URL</th>\n      <th>Price</th>\n      <th>Quantity</th>\n    </tr>\n  </thead>\n  <tbody>\n    <tr>\n      <th>0</th>\n      <td>A Light in the Attic</td>\n      <td>http://books.toscrape.com/catalogue/a-light-in...</td>\n      <td>51.77</td>\n      <td>22</td>\n    </tr>\n    <tr>\n      <th>1</th>\n      <td>Tipping the Velvet</td>\n      <td>http://books.toscrape.com/catalogue/tipping-th...</td>\n      <td>53.74</td>\n      <td>20</td>\n    </tr>\n    <tr>\n      <th>2</th>\n      <td>Soumission</td>\n      <td>http://books.toscrape.com/catalogue/soumission...</td>\n      <td>50.10</td>\n      <td>20</td>\n    </tr>\n    <tr>\n      <th>3</th>\n      <td>Sharp Objects</td>\n      <td>http://books.toscrape.com/catalogue/sharp-obje...</td>\n      <td>47.82</td>\n      <td>20</td>\n    </tr>\n    <tr>\n      <th>4</th>\n      <td>Sapiens: A Brief History of Humankind</td>\n      <td>http://books.toscrape.com/catalogue/sapiens-a-...</td>\n      <td>54.23</td>\n      <td>20</td>\n    </tr>\n    <tr>\n      <th>5</th>\n      <td>The Requiem Red</td>\n      <td>http://books.toscrape.com/catalogue/the-requie...</td>\n      <td>22.65</td>\n      <td>19</td>\n    </tr>\n    <tr>\n      <th>6</th>\n      <td>The Dirty Little Secrets of Getting Your Dream...</td>\n      <td>http://books.toscrape.com/catalogue/the-dirty-...</td>\n      <td>33.34</td>\n      <td>19</td>\n    </tr>\n    <tr>\n      <th>7</th>\n      <td>The Coming Woman: A Novel Based on the Life of...</td>\n      <td>http://books.toscrape.com/catalogue/the-coming...</td>\n      <td>17.93</td>\n      <td>19</td>\n    </tr>\n    <tr>\n      <th>8</th>\n      <td>The Boys in the Boat: Nine Americans and Their...</td>\n      <td>http://books.toscrape.com/catalogue/the-boys-i...</td>\n      <td>22.60</td>\n      <td>19</td>\n    </tr>\n    <tr>\n      <th>9</th>\n      <td>The Black Maria</td>\n      <td>http://books.toscrape.com/catalogue/the-black-...</td>\n      <td>52.15</td>\n      <td>19</td>\n    </tr>\n    <tr>\n      <th>10</th>\n      <td>Starving Hearts (Triangular Trade Trilogy, #1)</td>\n      <td>http://books.toscrape.com/catalogue/starving-h...</td>\n      <td>13.99</td>\n      <td>19</td>\n    </tr>\n    <tr>\n      <th>11</th>\n      <td>Shakespeare's Sonnets</td>\n      <td>http://books.toscrape.com/catalogue/shakespear...</td>\n      <td>20.66</td>\n      <td>19</td>\n    </tr>\n    <tr>\n      <th>12</th>\n      <td>Set Me Free</td>\n      <td>http://books.toscrape.com/catalogue/set-me-fre...</td>\n      <td>17.46</td>\n      <td>19</td>\n    </tr>\n    <tr>\n      <th>13</th>\n      <td>Scott Pilgrim's Precious Little Life (Scott Pi...</td>\n      <td>http://books.toscrape.com/catalogue/scott-pilg...</td>\n      <td>52.29</td>\n      <td>19</td>\n    </tr>\n    <tr>\n      <th>14</th>\n      <td>Rip it Up and Start Again</td>\n      <td>http://books.toscrape.com/catalogue/rip-it-up-...</td>\n      <td>35.02</td>\n      <td>19</td>\n    </tr>\n    <tr>\n      <th>15</th>\n      <td>Our Band Could Be Your Life: Scenes from the A...</td>\n      <td>http://books.toscrape.com/catalogue/our-band-c...</td>\n      <td>57.25</td>\n      <td>19</td>\n    </tr>\n    <tr>\n      <th>16</th>\n      <td>Olio</td>\n      <td>http://books.toscrape.com/catalogue/olio_984/i...</td>\n      <td>23.88</td>\n      <td>19</td>\n    </tr>\n    <tr>\n      <th>17</th>\n      <td>Mesaerion: The Best Science Fiction Stories 18...</td>\n      <td>http://books.toscrape.com/catalogue/mesaerion-...</td>\n      <td>37.59</td>\n      <td>19</td>\n    </tr>\n    <tr>\n      <th>18</th>\n      <td>Libertarianism for Beginners</td>\n      <td>http://books.toscrape.com/catalogue/libertaria...</td>\n      <td>51.33</td>\n      <td>19</td>\n    </tr>\n    <tr>\n      <th>19</th>\n      <td>It's Only the Himalayas</td>\n      <td>http://books.toscrape.com/catalogue/its-only-t...</td>\n      <td>45.17</td>\n      <td>19</td>\n    </tr>\n    <tr>\n      <th>20</th>\n      <td>In Her Wake</td>\n      <td>http://books.toscrape.com/catalogue/in-her-wak...</td>\n      <td>12.84</td>\n      <td>19</td>\n    </tr>\n    <tr>\n      <th>21</th>\n      <td>How Music Works</td>\n      <td>http://books.toscrape.com/catalogue/how-music-...</td>\n      <td>37.32</td>\n      <td>19</td>\n    </tr>\n    <tr>\n      <th>22</th>\n      <td>Foolproof Preserving: A Guide to Small Batch J...</td>\n      <td>http://books.toscrape.com/catalogue/foolproof-...</td>\n      <td>30.52</td>\n      <td>19</td>\n    </tr>\n    <tr>\n      <th>23</th>\n      <td>Chase Me (Paris Nights #2)</td>\n      <td>http://books.toscrape.com/catalogue/chase-me-p...</td>\n      <td>25.27</td>\n      <td>19</td>\n    </tr>\n    <tr>\n      <th>24</th>\n      <td>Black Dust</td>\n      <td>http://books.toscrape.com/catalogue/black-dust...</td>\n      <td>34.53</td>\n      <td>19</td>\n    </tr>\n    <tr>\n      <th>25</th>\n      <td>Birdsong: A Story in Pictures</td>\n      <td>http://books.toscrape.com/catalogue/birdsong-a...</td>\n      <td>54.64</td>\n      <td>19</td>\n    </tr>\n    <tr>\n      <th>26</th>\n      <td>America's Cradle of Quarterbacks: Western Penn...</td>\n      <td>http://books.toscrape.com/catalogue/americas-c...</td>\n      <td>22.50</td>\n      <td>19</td>\n    </tr>\n    <tr>\n      <th>27</th>\n      <td>Aladdin and His Wonderful Lamp</td>\n      <td>http://books.toscrape.com/catalogue/aladdin-an...</td>\n      <td>53.13</td>\n      <td>19</td>\n    </tr>\n    <tr>\n      <th>28</th>\n      <td>Worlds Elsewhere: Journeys Around Shakespeareâ...</td>\n      <td>http://books.toscrape.com/catalogue/worlds-els...</td>\n      <td>40.30</td>\n      <td>18</td>\n    </tr>\n    <tr>\n      <th>29</th>\n      <td>Wall and Piece</td>\n      <td>http://books.toscrape.com/catalogue/wall-and-p...</td>\n      <td>44.18</td>\n      <td>18</td>\n    </tr>\n    <tr>\n      <th>30</th>\n      <td>The Four Agreements: A Practical Guide to Pers...</td>\n      <td>http://books.toscrape.com/catalogue/the-four-a...</td>\n      <td>17.66</td>\n      <td>18</td>\n    </tr>\n    <tr>\n      <th>31</th>\n      <td>The Five Love Languages: How to Express Heartf...</td>\n      <td>http://books.toscrape.com/catalogue/the-five-l...</td>\n      <td>31.05</td>\n      <td>18</td>\n    </tr>\n    <tr>\n      <th>32</th>\n      <td>The Elephant Tree</td>\n      <td>http://books.toscrape.com/catalogue/the-elepha...</td>\n      <td>23.82</td>\n      <td>18</td>\n    </tr>\n    <tr>\n      <th>33</th>\n      <td>The Bear and the Piano</td>\n      <td>http://books.toscrape.com/catalogue/the-bear-a...</td>\n      <td>36.89</td>\n      <td>18</td>\n    </tr>\n    <tr>\n      <th>34</th>\n      <td>Sophie's World</td>\n      <td>http://books.toscrape.com/catalogue/sophies-wo...</td>\n      <td>15.94</td>\n      <td>18</td>\n    </tr>\n    <tr>\n      <th>35</th>\n      <td>Penny Maybe</td>\n      <td>http://books.toscrape.com/catalogue/penny-mayb...</td>\n      <td>33.29</td>\n      <td>18</td>\n    </tr>\n    <tr>\n      <th>36</th>\n      <td>Maude (1883-1993):She Grew Up with the country</td>\n      <td>http://books.toscrape.com/catalogue/maude-1883...</td>\n      <td>18.02</td>\n      <td>18</td>\n    </tr>\n    <tr>\n      <th>37</th>\n      <td>In a Dark, Dark Wood</td>\n      <td>http://books.toscrape.com/catalogue/in-a-dark-...</td>\n      <td>19.63</td>\n      <td>18</td>\n    </tr>\n    <tr>\n      <th>38</th>\n      <td>Behind Closed Doors</td>\n      <td>http://books.toscrape.com/catalogue/behind-clo...</td>\n      <td>52.22</td>\n      <td>18</td>\n    </tr>\n    <tr>\n      <th>39</th>\n      <td>You can't bury them all: Poems</td>\n      <td>http://books.toscrape.com/catalogue/you-cant-b...</td>\n      <td>33.63</td>\n      <td>17</td>\n    </tr>\n  </tbody>\n</table>\n</div>"
     },
     "metadata": {},
     "execution_count": 153
    }
   ],
   "source": [
    "df = pd.DataFrame(bookdetail, columns=[\"Title\", \"URL\", \"Price\", \"Quantity\"])\n",
    "df"
   ]
  },
  {
   "source": [
    "## Assignments\n"
   ],
   "cell_type": "markdown",
   "metadata": {}
  },
  {
   "source": [
    "### Print the data of first 3 movies\n",
    "Find and print the name and genre of the first 3 titles"
   ],
   "cell_type": "markdown",
   "metadata": {}
  },
  {
   "cell_type": "code",
   "execution_count": 44,
   "metadata": {
    "tags": []
   },
   "outputs": [
    {
     "output_type": "stream",
     "name": "stdout",
     "text": [
      "Avengers: Infinity War ; Action, Adventure, Sci-Fi\nBlack Panther ; Action, Adventure, Sci-Fi\nDeadpool 2 ; Action, Adventure, Comedy\n"
     ]
    }
   ],
   "source": [
    "baseUrl = \"https://www.imdb.com/search/title?release_date=2018&sort=num_votes,desc&page=1&ref_=adv_nxt\"\n",
    "from bs4 import BeautifulSoup as bs \n",
    "import requests\n",
    "htmlData = requests.get(baseUrl).text\n",
    "soup = bs(htmlData, \"html.parser\")\n",
    "soupContents = soup.find_all(class_ = \"lister-item-content\")[0:3]\n",
    "for movie in soupContents:\n",
    "    movieTitle = movie.h3.a.string\n",
    "    genrelist = movie.find(class_=\"genre\").string.split(\",\")\n",
    "    print(f\"{movieTitle.strip()} ; {genrelist[0].strip()}, {genrelist[1].strip()}, {genrelist[2].strip()}\")\n",
    "    "
   ]
  },
  {
   "source": [
    "### titles with most votes\n",
    "Print the names of movies with highest number of votes from year 2010 to 2014\n",
    "Note : Print the titles line wise starting from year 2010"
   ],
   "cell_type": "markdown",
   "metadata": {}
  },
  {
   "cell_type": "code",
   "execution_count": 57,
   "metadata": {},
   "outputs": [
    {
     "output_type": "stream",
     "name": "stdout",
     "text": [
      "Inception\n",
      "Game of Thrones\n",
      "The Dark Knight Rises\n",
      "The Wolf of Wall Street\n",
      "Interstellar\n"
     ]
    }
   ],
   "source": [
    "baseUrl = \"https://www.imdb.com/search/title?release_date=2018&sort=num_votes,desc&page=1&ref_=adv_nxt\"\n",
    "from bs4 import BeautifulSoup as bs \n",
    "import requests\n",
    "for i in range(2010,2015):\n",
    "    pageurl = \"https://www.imdb.com/search/title?release_date=\" + str(i) + \"&sort=num_votes,desc&page=1&ref_=adv_nxt\"\n",
    "    #print(pageurl)\n",
    "\n",
    "    htmlData = requests.get(pageurl).text\n",
    "    soup = bs(htmlData, \"html.parser\")\n",
    "    soupmovie = soup.find(class_ = \"lister-item-header\")\n",
    "    print(soupmovie.a.string)"
   ]
  },
  {
   "source": [
    "### title with maximum duration\n",
    "Out of the first 250 titles with highest number of votes in 2018,find which title has the maximum duration."
   ],
   "cell_type": "markdown",
   "metadata": {}
  },
  {
   "cell_type": "code",
   "execution_count": 106,
   "metadata": {},
   "outputs": [
    {
     "output_type": "stream",
     "name": "stdout",
     "text": [
      "The Haunting of Hill House 572\n"
     ]
    }
   ],
   "source": [
    "starturl = \"https://www.imdb.com/search/title?release_date=2018&sort=num_votes,desc&page=1&ref_=adv_nxt\"\n",
    "baseurl = \"https://www.imdb.com\"\n",
    "\n",
    "from bs4 import BeautifulSoup as bs \n",
    "import pandas as pd\n",
    "import requests\n",
    "import re\n",
    "\n",
    "import time\n",
    "from random import randint\n",
    "\n",
    "movietitleruntimelist=[]\n",
    "\n",
    "htmlData = requests.get(starturl).text\n",
    "soup = bs(htmlData, \"html.parser\")\n",
    "\n",
    "for page in range(5):\n",
    "    soupContents = soup.find_all(class_ = \"lister-item-content\")#[0:3]\n",
    "    for movie in soupContents:\n",
    "        movieTitle = movie.h3.a.string\n",
    "        runtime = movie.find(class_=\"runtime\").string\n",
    "        runtime = int(re.search(\"\\d+\",runtime).group())\n",
    "        #print(f\"{movieTitle.strip()} : {runtime}\")\n",
    "        movietitleruntimelist.append([movieTitle, runtime])\n",
    "    \n",
    "    nexturl = baseurl + soup.find(class_=\"desc\").a[\"href\"]\n",
    "    htmlData = requests.get(nexturl).text\n",
    "    soup = bs(htmlData, \"html.parser\")\n",
    "    time.sleep(randint(0,3))\n",
    "#print(len(movietitleruntimelist))\n",
    "df = pd.DataFrame(movietitleruntimelist, columns = [\"Title\", \"Runtime\"])\n",
    "df = df.sort_values(by = [\"Runtime\"],ascending=False).reset_index()\n",
    "print(df.Title[0],df.Runtime[0])"
   ]
  },
  {
   "cell_type": "code",
   "execution_count": 105,
   "metadata": {},
   "outputs": [
    {
     "output_type": "stream",
     "name": "stdout",
     "text": [
      "The Haunting of Hill House 572\n"
     ]
    }
   ],
   "source": [
    "# ta code\n",
    "import requests\n",
    "import time\n",
    "from random import randint\n",
    "from bs4 import BeautifulSoup\n",
    "dict={}\n",
    "for i in range(1,202,50):\n",
    "    page=requests.get('https://www.imdb.com/search/title?release_date=2018-01-01,2018-12-31&sort=num_votes,desc&start=' + str(i) +'&ref_=adv_nxt')\n",
    "    soup=BeautifulSoup(page.content,'html.parser')\n",
    "    tags=soup.find_all('div',class_='lister-item')\n",
    "    for j in tags:\n",
    "        if j.find('span',class_='runtime'):\n",
    "            head=j.find('h3',class_='lister-item-header')\n",
    "            dur=j.find('span',class_='runtime')\n",
    "            t=int(dur.text.strip().split(' ')[0])\n",
    "            dict[head.a.string]=t\n",
    "    time.sleep(randint(0,3))\n",
    "maxdur=-1\n",
    "maxname=0\n",
    "for k,v in dict.items():\n",
    "    if v>maxdur:\n",
    "        maxdur=v\n",
    "        maxname=k\n",
    "print(maxname,maxdur)\n",
    "        "
   ]
  },
  {
   "source": [
    "### Image with maximum area\n",
    "Find and print the src of the <img> tag which occupies the maximum area on the page."
   ],
   "cell_type": "markdown",
   "metadata": {}
  },
  {
   "cell_type": "code",
   "execution_count": 25,
   "metadata": {
    "tags": []
   },
   "outputs": [
    {
     "output_type": "stream",
     "name": "stdout",
     "text": [
      "//upload.wikimedia.org/wikipedia/commons/thumb/1/13/Joseph_Ayerle_portrait_of_Ornella_Muti_%28detail%29%2C_calculated_by_Artificial_Intelligence_%28AI%29_technology.jpg/220px-Joseph_Ayerle_portrait_of_Ornella_Muti_%28detail%29%2C_calculated_by_Artificial_Intelligence_%28AI%29_technology.jpg\n"
     ]
    }
   ],
   "source": [
    "baseurl = \"https://en.wikipedia.org/wiki/Artificial_intelligence\"\n",
    "from bs4 import BeautifulSoup as bs \n",
    "import requests\n",
    "soup = bs(requests.get(baseurl).content,\"html.parser\")\n",
    "allImages = soup.find_all(\"img\")\n",
    "max=-1\n",
    "url=-1\n",
    "for i in allImages:\n",
    "    if i.has_attr('height') and i.has_attr('width'):\n",
    "        if int(i[\"height\"])*int(i[\"width\"])>max:\n",
    "            max=int(i[\"height\"])*int(i[\"width\"])\n",
    "            url=i[\"src\"]\n",
    "print(url)"
   ]
  },
  {
   "source": [
    "### Quotes with tag humor\n",
    "Find all the quotes that have the tag as \"humor\" from this website"
   ],
   "cell_type": "markdown",
   "metadata": {}
  },
  {
   "cell_type": "code",
   "execution_count": 54,
   "metadata": {},
   "outputs": [
    {
     "output_type": "stream",
     "name": "stdout",
     "text": [
      "“The person, be it gentleman or lady, who has not pleasure in a good novel, must be intolerably stupid.”\n",
      "“A day without sunshine is like, you know, night.”\n",
      "“Anyone who thinks sitting in church can make you a Christian must also think that sitting in a garage can make you a car.”\n",
      "“Beauty is in the eye of the beholder and it may be necessary from time to time to give a stupid or misinformed beholder a black eye.”\n",
      "“All you need is love. But a little chocolate now and then doesn't hurt.”\n",
      "“Remember, we're madly in love, so it's all right to kiss me anytime you feel like it.”\n",
      "“Some people never go crazy. What truly horrible lives they must lead.”\n",
      "“The trouble with having an open mind, of course, is that people will insist on coming along and trying to put things in it.”\n",
      "“Think left and think right and think low and think high. Oh, the thinks you can think up if only you try!”\n",
      "“The reason I talk to myself is because I’m the only one whose answers I accept.”\n",
      "“I am free of all prejudice. I hate everyone equally. ”\n",
      "“A lady's imagination is very rapid; it jumps from admiration to love, from love to matrimony in a moment.”\n"
     ]
    }
   ],
   "source": [
    "baseurl = \"http://quotes.toscrape.com/\"\n",
    "starturl = \"http://quotes.toscrape.com/page/\"\n",
    "from bs4 import BeautifulSoup as bs \n",
    "import requests\n",
    "for page in range(1,11):\n",
    "    nexturl = requests.get(starturl+str(page)+\"/\")\n",
    "    soup = bs(nexturl.content,\"html.parser\")\n",
    "\n",
    "    soupquote = soup.find_all(class_=\"quote\")\n",
    "    for i in soupquote:\n",
    "        quotetext = i.find(class_=\"text\").string\n",
    "        allTags = i.find_all(class_=\"tag\")\n",
    "        for j in allTags:\n",
    "            if \"humor\" in j.string:\n",
    "                print(quotetext)"
   ]
  },
  {
   "source": [
    "### Print all authors\n",
    "Find and print the names of all the different authors from all pages of this website\n",
    "Note : Print the names of all authors line wise sorted in dictionary order"
   ],
   "cell_type": "markdown",
   "metadata": {}
  },
  {
   "cell_type": "code",
   "execution_count": 63,
   "metadata": {},
   "outputs": [
    {
     "output_type": "stream",
     "name": "stdout",
     "text": [
      "Albert Einstein\nAlexandre Dumas fils\nAlfred Tennyson\nAllen Saunders\nAndré Gide\nAyn Rand\nBob Marley\nC.S. Lewis\nCharles Bukowski\nCharles M. Schulz\nDouglas Adams\nDr. Seuss\nE.E. Cummings\nEleanor Roosevelt\nElie Wiesel\nErnest Hemingway\nFriedrich Nietzsche\nGarrison Keillor\nGeorge Bernard Shaw\nGeorge Carlin\nGeorge Eliot\nGeorge R.R. Martin\nHarper Lee\nHaruki Murakami\nHelen Keller\nJ.D. Salinger\nJ.K. Rowling\nJ.M. Barrie\nJ.R.R. Tolkien\nJames Baldwin\nJane Austen\nJim Henson\nJimi Hendrix\nJohn Lennon\nJorge Luis Borges\nKhaled Hosseini\nMadeleine L'Engle\nMarilyn Monroe\nMark Twain\nMartin Luther King Jr.\nMother Teresa\nPablo Neruda\nRalph Waldo Emerson\nStephenie Meyer\nSteve Martin\nSuzanne Collins\nTerry Pratchett\nThomas A. Edison\nW.C. Fields\nWilliam Nicholson\n"
     ]
    }
   ],
   "source": [
    "baseurl = \"http://quotes.toscrape.com/\"\n",
    "starturl = \"http://quotes.toscrape.com/page/\"\n",
    "from bs4 import BeautifulSoup as bs \n",
    "import requests\n",
    "authors = []\n",
    "\n",
    "for page in range(1,11):\n",
    "    nexturl = requests.get(starturl+str(page)+\"/\")\n",
    "    soup = bs(nexturl.content,\"html.parser\")\n",
    "    auhtorsfromapage = soup.find_all(class_=\"author\")\n",
    "    for auth in auhtorsfromapage:\n",
    "        authors.append(auth.string)\n",
    "\n",
    "authors = set(authors)\n",
    "for i in sorted(authors):\n",
    "    print(i)"
   ]
  },
  {
   "source": [
    "### Birth Date of authors\n",
    "Find the birth date of authors whose name start with 'J' from this website\n",
    "Note : Print a dictionary containing the name as key and the birth date as value.The Names of authors should be alphabetically sorted."
   ],
   "cell_type": "markdown",
   "metadata": {}
  },
  {
   "cell_type": "code",
   "execution_count": 36,
   "metadata": {
    "tags": []
   },
   "outputs": [
    {
     "output_type": "stream",
     "name": "stdout",
     "text": [
      "<a href=\"/author/Albert-Einstein\">(about)</a>\n",
      "None\n"
     ]
    }
   ],
   "source": [
    "baseurl = \"http://quotes.toscrape.com/\"\n",
    "#starturl = \"http://quotes.toscrape.com/page/\"\n",
    "from bs4 import BeautifulSoup as bs \n",
    "import requests\n",
    "import re\n",
    "soup = bs(requests.get(baseurl).content,\"html.parser\")\n",
    "soupAuthLinks = soup.find_all(\"a\", string = re.compile(\"about\"))\n",
    "for i in soupAuthLinks[0:1]:\n",
    "    #print(i)\n",
    "\n",
    "    authurl = baseurl + i[\"href\"]\n",
    "    soupauth = bs(requests.get(authurl).content,\"html.parser\")\n",
    "    print(soupauth.find(class_= \"author-title\").string)\n",
    "    authDOB = str(soupauth.find(class_= \"author-born-date\").string) \n",
    "    "
   ]
  },
  {
   "cell_type": "code",
   "execution_count": 74,
   "metadata": {},
   "outputs": [
    {
     "output_type": "stream",
     "name": "stdout",
     "text": [
      "{'J.D. Salinger': 'January 01, 1919', 'J.K. Rowling': 'July 31, 1965', 'J.M. Barrie': 'May 09, 1860', 'J.R.R. Tolkien': 'January 03, 1892', 'James Baldwin': 'August 02, 1924', 'Jane Austen': 'December 16, 1775', 'Jim Henson': 'September 24, 1936', 'Jimi Hendrix': 'November 27, 1942', 'John Lennon': 'October 09, 1940', 'Jorge Luis Borges': 'August 24, 1899'}\n"
     ]
    }
   ],
   "source": [
    "baseurl = \"http://quotes.toscrape.com/\"\n",
    "starturl = \"http://quotes.toscrape.com/page/\"\n",
    "\n",
    "from bs4 import BeautifulSoup as bs \n",
    "import requests\n",
    "import re\n",
    "\n",
    "authnamedob = []\n",
    "for page in range(1,11):\n",
    "    nexturl = requests.get(starturl+str(page)+\"/\")\n",
    "    soup = bs(nexturl.content,\"html.parser\")\n",
    "\n",
    "    soupAuthLinks = soup.find_all(class_=\"quote\")\n",
    "    for i in soupAuthLinks:\n",
    "        name = str(i.find(class_=\"author\").string)\n",
    "        if name[0] == \"J\":\n",
    "            authurl = baseurl + i.a[\"href\"]\n",
    "            soupauth = bs(requests.get(authurl).content,\"html.parser\")\n",
    "            authDOB = str(soupauth.find(class_= \"author-born-date\").string) \n",
    "            #print(name, authDOB)\n",
    "            authnamedob.append([name, authDOB])\n",
    "\n",
    "dicAuthors = dict()\n",
    "for ele in authnamedob:\n",
    "    if ele[0] not in dicAuthors:\n",
    "        dicAuthors[ele[0]] = ele[1]\n",
    "        \n",
    "print(dict(sorted(dicAuthors.items())))"
   ]
  },
  {
   "source": [
    "### Quotes by Albert Einstein\n",
    "Find all the quotes by Albert Einstein(in the order they appear on the page) from this website"
   ],
   "cell_type": "markdown",
   "metadata": {}
  },
  {
   "cell_type": "code",
   "execution_count": 90,
   "metadata": {},
   "outputs": [
    {
     "output_type": "stream",
     "name": "stdout",
     "text": [
      "“The world as we have created it is a process of our thinking. It cannot be changed without changing our thinking.”\n",
      "“There are only two ways to live your life. One is as though nothing is a miracle. The other is as though everything is a miracle.”\n",
      "“Try not to become a man of success. Rather become a man of value.”\n",
      "“If you can't explain it to a six year old, you don't understand it yourself.”\n",
      "“If you want your children to be intelligent, read them fairy tales. If you want them to be more intelligent, read them more fairy tales.”\n",
      "“Logic will get you from A to Z; imagination will get you everywhere.”\n",
      "“Any fool can know. The point is to understand.”\n",
      "“Life is like riding a bicycle. To keep your balance, you must keep moving.”\n",
      "“If I were not a physicist, I would probably be a musician. I often think in music. I live my daydreams in music. I see my life in terms of music.”\n",
      "“Anyone who has never made a mistake has never tried anything new.”\n"
     ]
    }
   ],
   "source": [
    "baseurl = \"http://quotes.toscrape.com/\"\n",
    "starturl = \"http://quotes.toscrape.com/page/\"\n",
    "\n",
    "from bs4 import BeautifulSoup as bs \n",
    "import requests\n",
    "import re\n",
    "\n",
    "for page in range(1,11):\n",
    "    nexturl = requests.get(starturl+str(page)+\"/\")\n",
    "    soup = bs(nexturl.content,\"html.parser\")\n",
    "\n",
    "    soupAuthLinks = soup.find_all(class_=\"quote\")\n",
    "    for i in soupAuthLinks:\n",
    "        name = str(i.find(class_=\"author\").string)\n",
    "        #print(name)\n",
    "        if name == \"Albert Einstein\":\n",
    "            print(i.find(class_ = \"text\").string)\n",
    "            authurl = baseurl + i.a[\"href\"]\n",
    "            soupauth = bs(requests.get(authurl).content,\"html.parser\")"
   ]
  }
 ]
}