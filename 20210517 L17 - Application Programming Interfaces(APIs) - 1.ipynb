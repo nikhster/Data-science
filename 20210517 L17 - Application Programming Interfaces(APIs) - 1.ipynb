{
 "metadata": {
  "language_info": {
   "codemirror_mode": {
    "name": "ipython",
    "version": 3
   },
   "file_extension": ".py",
   "mimetype": "text/x-python",
   "name": "python",
   "nbconvert_exporter": "python",
   "pygments_lexer": "ipython3",
   "version": "3.8.5"
  },
  "orig_nbformat": 2,
  "kernelspec": {
   "name": "python385jvsc74a57bd01e915f0a29dc84041eaeb02b7b1a21c440e37a87b61d44d5e84a515737dc82bc",
   "display_name": "Python 3.8.5 64-bit ('base': conda)"
  }
 },
 "nbformat": 4,
 "nbformat_minor": 2,
 "cells": [
  {
   "source": [
    "## Application Programming Interfaces(APIs) - 1"
   ],
   "cell_type": "markdown",
   "metadata": {}
  },
  {
   "source": [
    "### Get"
   ],
   "cell_type": "markdown",
   "metadata": {}
  },
  {
   "cell_type": "code",
   "execution_count": 6,
   "metadata": {},
   "outputs": [
    {
     "output_type": "stream",
     "name": "stdout",
     "text": [
      "200\nNone\n"
     ]
    }
   ],
   "source": [
    "import requests\n",
    "response=requests.get(\"https://codingninjas.in/api/v3/courses\")\n",
    "print(response.status_code)"
   ]
  },
  {
   "source": [
    "#### Status code 2XX - Success\n",
    "#### Status code 4XX - Failue\n"
   ],
   "cell_type": "markdown",
   "metadata": {}
  },
  {
   "cell_type": "code",
   "execution_count": 5,
   "metadata": {},
   "outputs": [
    {
     "output_type": "stream",
     "name": "stdout",
     "text": [
      "None\n"
     ]
    }
   ],
   "source": [
    "print(response.encoding)"
   ]
  },
  {
   "cell_type": "code",
   "execution_count": 8,
   "metadata": {},
   "outputs": [],
   "source": [
    "#print(response.text)"
   ]
  },
  {
   "cell_type": "code",
   "execution_count": 9,
   "metadata": {},
   "outputs": [
    {
     "output_type": "stream",
     "name": "stdout",
     "text": [
      "https://codingninjas.in/api/v3/courses\n"
     ]
    }
   ],
   "source": [
    "print(response.url)"
   ]
  },
  {
   "cell_type": "code",
   "execution_count": 10,
   "metadata": {},
   "outputs": [
    {
     "output_type": "stream",
     "name": "stdout",
     "text": [
      "{'Date': 'Sun, 16 May 2021 19:20:42 GMT', 'Content-Type': 'application/json', 'Transfer-Encoding': 'chunked', 'Connection': 'keep-alive', 'Server': 'nginx', 'X-Frame-Options': 'SAMEORIGIN', 'X-XSS-Protection': '1; mode=block', 'X-Content-Type-Options': 'nosniff', 'Access-Control-Allow-Origin': '*', 'Access-Control-Allow-Methods': 'POST, GET, PATCH, PUT, DELETE, OPTIONS', 'Access-Control-Allow-Headers': 'Access-Control-Allow-Headers, Origin,Accept, X-Requested-With, Content-Type, Access-Control-Request-Method, Access-Control-Request-Headers, Authorization', 'Access-Control-Max-Age': '1728000', 'Vary': 'Accept-Encoding', 'Content-Encoding': 'gzip', 'ETag': 'W/\"e57739bccfc3211f7a6fc48614ca7a5e\"', 'Cache-Control': 'max-age=0, private, must-revalidate', 'X-Request-Id': 'ef1004d6-c288-44ad-aec2-7acab4522347', 'X-Runtime': '0.010638', 'Strict-Transport-Security': 'max-age=31536000; includeSubDomains;'}\n"
     ]
    }
   ],
   "source": [
    "print(response.headers)"
   ]
  },
  {
   "cell_type": "code",
   "execution_count": 17,
   "metadata": {},
   "outputs": [
    {
     "output_type": "stream",
     "name": "stdout",
     "text": [
      "Sun, 16 May 2021 19:20:42 GMT\nnginx\n"
     ]
    }
   ],
   "source": [
    "headerInfo = response.headers\n",
    "print(headerInfo[\"Date\"])\n",
    "print(headerInfo[\"server\"]) #case insensitive"
   ]
  },
  {
   "cell_type": "code",
   "execution_count": 19,
   "metadata": {},
   "outputs": [
    {
     "output_type": "stream",
     "name": "stdout",
     "text": [
      "404\n"
     ]
    }
   ],
   "source": [
    "#Make an API call to http://api.open-notify.org/iss-pass.\n",
    "response1=requests.get(\"http://api.open-notify.org/iss-pass\")\n",
    "print(response1.status_code)"
   ]
  },
  {
   "cell_type": "code",
   "execution_count": 20,
   "metadata": {},
   "outputs": [
    {
     "output_type": "stream",
     "name": "stdout",
     "text": [
      "200\n"
     ]
    }
   ],
   "source": [
    "#Make an API call to http://api.open-notify.org/iss-now.json.\n",
    "response1=requests.get(\"http://api.open-notify.org/iss-now.json\")\n",
    "print(response1.status_code)"
   ]
  },
  {
   "cell_type": "code",
   "execution_count": 22,
   "metadata": {},
   "outputs": [
    {
     "output_type": "stream",
     "name": "stdout",
     "text": [
      "application/json\n"
     ]
    }
   ],
   "source": [
    "#Print the content-type received after making a get request to url = https://codingninjas.in/api/v3/events\n",
    "#Note : content-type can be found in header information of response object.\n",
    "\n",
    "import requests\n",
    "\n",
    "response = requests.get(\"https://codingninjas.in/api/v3/events\")\n",
    "print(response.headers['Content-Type'])"
   ]
  },
  {
   "cell_type": "code",
   "execution_count": 16,
   "metadata": {},
   "outputs": [
    {
     "output_type": "stream",
     "name": "stdout",
     "text": [
      "afghan\nbasset\nblood\nenglish\nibizan\nplott\nwalker\n"
     ]
    }
   ],
   "source": [
    "#Print all sub-breeds of hound by making a get request to given URL.\n",
    "#URL : https://dog.ceo/api/breeds/list/all\n",
    "#Print name of sub-breeds in different lines.\n",
    "\n",
    "import requests\n",
    "import json\n",
    "response = requests.get(\"https://dog.ceo/api/breeds/list/all\")\n",
    "#print(response.status_code)\n",
    "#print(response.headers['Content-Type'])\n",
    "pythonData = json.loads(response.text)\n",
    "#print(type(pythonData))\n",
    "#print(pythonData)\n",
    "for key,val in pythonData[\"message\"].items():\n",
    "    if key == \"hound\":\n",
    "        for subbreed in val:\n",
    "            print(subbreed)\n"
   ]
  },
  {
   "cell_type": "code",
   "execution_count": 19,
   "metadata": {},
   "outputs": [
    {
     "output_type": "stream",
     "name": "stdout",
     "text": [
      "3\n"
     ]
    }
   ],
   "source": [
    "#Print the count of total sub-breeds of poodle from this \n",
    "# URL : https://dog.ceo/api/breeds/list/all/.\n",
    "import requests\n",
    "import json\n",
    "response = requests.get(\"https://dog.ceo/api/breeds/list/all\")\n",
    "pythonData = json.loads(response.text)\n",
    "for key,val in pythonData[\"message\"].items():\n",
    "    if key == \"poodle\":\n",
    "        print(len(val))"
   ]
  },
  {
   "cell_type": "code",
   "execution_count": 25,
   "metadata": {},
   "outputs": [
    {
     "output_type": "stream",
     "name": "stdout",
     "text": [
      "Premium Full Stack Web Development\nPremium Android App Development\nNinja Competitive Programmer Track\nPremium Data Science Course\nPremium Competitive Programming Course\nAdvanced  Front-End Web Development with React\nC++ Foundation with Data Structures\nPremium Machine Learning Course\nPremium Data structures and Algorithms [C++/Java/Python]\nMachine Learning & Deep Learning Course\nJAVA Foundation with Data Structures\nNinja Android Developer Career Track \nFull Stack Web Development\nInterview Preparation Course\nNinja  Web Developer Career Track - NodeJS & ReactJs\nData Science & Machine Learning Complete\nNinja  Web Developer Career Track - NodeJS\nCompetitive Programming Course\nNinja Data Scientist Career Track\nPython Foundation with Data Structures\nAndroid Development with Kotlin\nNinja Machine Learning Engineer Career Track\nAptitude Preparation Course\n"
     ]
    }
   ],
   "source": [
    "#Print name of all online courses offered by Coding Ninjas. You can fetch the data using their \n",
    "# open API : https://api.codingninjas.com/api/v3/courses .\n",
    "import requests\n",
    "import json\n",
    "response = requests.get(\"https://api.codingninjas.com/api/v3/courses\")\n",
    "pythonData = json.loads(response.text)\n",
    "courses = pythonData[\"data\"][\"courses\"]\n",
    "for i in courses:\n",
    "    if i[\"available_online\"]==True:\n",
    "        print(i[\"name\"])"
   ]
  },
  {
   "cell_type": "code",
   "execution_count": 42,
   "metadata": {
    "tags": []
   },
   "outputs": [
    {
     "output_type": "stream",
     "name": "stdout",
     "text": [
      "To help you prepare for the different interview rounds at Accenture, Coding Ninjas is organising an Online Mock Test Series from 21st - 31st May, 2021.\n\n"
     ]
    }
   ],
   "source": [
    "#Print description of first event from Coding Ninjas Events API\n",
    "#If ther are no events in this API, then print \"No Events !\"\n",
    "#Data can be fetched from this URL : https://api.codingninjas.com/api/v3/events\n",
    "#Coding Ninjas Events API\n",
    "\n",
    "import requests\n",
    "import json\n",
    "response = requests.get(\"https://api.codingninjas.com/api/v3/events?event_category=ALL_EVENTS&event_sub_category=All%20Time%20Favorites&tag_list=&offset=0&_ga=2.31119359.1557034449.1621230236-2051375802.1621230235\")\n",
    "#print(response.status_code//100)\n",
    "if(response.status_code//100 == 4):\n",
    "    print(\"No Events !\")\n",
    "else:\n",
    "    pythonData = json.loads(response.text)\n",
    "    events = pythonData[\"data\"][\"events\"]\n",
    "    print(events[0][\"short_desc\"])"
   ]
  },
  {
   "cell_type": "code",
   "execution_count": 51,
   "metadata": {},
   "outputs": [
    {
     "output_type": "stream",
     "name": "stdout",
     "text": [
      "https://api.codingninjas.com:443/api/v3/courses\nMachine Learning\n"
     ]
    }
   ],
   "source": [
    "#Print the title of course with id=19.\n",
    "#URL : http://api.codingninjas.com/api/v3/courses\n",
    "import requests\n",
    "import json\n",
    "response = requests.get(\"http://api.codingninjas.com/api/v3/courses\")\n",
    "if(response.status_code//100 == 2):\n",
    "    pythonData = json.loads(response.text)\n",
    "    events = pythonData[\"data\"][\"courses\"]\n",
    "    for i in (events):\n",
    "        if i[\"id\"] == 19:\n",
    "            print(i[\"title\"])  \n",
    "else:\n",
    "    print(response.status_code)"
   ]
  },
  {
   "cell_type": "code",
   "execution_count": 58,
   "metadata": {},
   "outputs": [
    {
     "output_type": "stream",
     "name": "stdout",
     "text": [
      "https://u50g7n0cbj.execute-api.us-east-1.amazonaws.com/v1/cities?country=AU\n69\n"
     ]
    }
   ],
   "source": [
    "#Count the total number of cities of country AU from this \n",
    "# URL : https://api.openaq.org/v1/cities/\n",
    "import requests \n",
    "import json\n",
    "response = requests.get(\"https://api.openaq.org/v1/cities/\",params={\"country\":\"AU\"})\n",
    "if(response.status_code//100 == 2):\n",
    "    pythonData=json.loads(response.text)\n",
    "    print(response.url)\n",
    "    print(len(pythonData[\"results\"]))\n",
    "else:\n",
    "    print(\"Invalid API url\")"
   ]
  },
  {
   "cell_type": "code",
   "execution_count": 82,
   "metadata": {},
   "outputs": [
    {
     "output_type": "stream",
     "name": "stdout",
     "text": [
      "Antwerpen\nBrabant wallon\nBrussels-Capital Region\nFlanders\nHainaut\n"
     ]
    }
   ],
   "source": [
    "#Print first 5 cities from country “BE”. Fetch the result from given URL.\n",
    "#Order the results by city.\n",
    "#URL - https://api.openaq.org/v1/cities\n",
    "#Documentation - https://docs.openaq.org/\n",
    "import requests\n",
    "import json\n",
    "\n",
    "response = requests.get(\"https://api.openaq.org/v1/cities\", params={\"country\":\"BE\"})\n",
    "if(response.status_code//100==2):\n",
    "    pythonData=json.loads(response.text)\n",
    "    #print(response.url)\n",
    "    beCity=[]\n",
    "    beCity5=[]\n",
    "    for i in pythonData[\"results\"]:\n",
    "        beCity.append(i[\"city\"])\n",
    "    #print(beCity)  #all Cities in BE\n",
    "    for i in range(len(beCity)):\n",
    "        if i<5:\n",
    "            beCity5.append(beCity[i])\n",
    "    beCity5.sort()\n",
    "    for city in beCity5:\n",
    "        print(city)"
   ]
  },
  {
   "cell_type": "code",
   "execution_count": 92,
   "metadata": {},
   "outputs": [
    {
     "output_type": "stream",
     "name": "stdout",
     "text": [
      "200\nhttps://www.metaweather.com/api/location/search/?query=USA\n1132447\n"
     ]
    }
   ],
   "source": [
    "#Make an API call to - https://www.metaweather.com/api/location/search/\n",
    "#Search for \"USA\" and print its woeid.\n",
    "import requests\n",
    "import json\n",
    "response = requests.get(\"https://www.metaweather.com/api/location/search/\",params={\"query\":\"USA\"})\n",
    "print(response.status_code)\n",
    "print(response.url)\n",
    "if(response.status_code//100 == 2):\n",
    "    pythonData=json.loads(response.text)\n",
    "    print(pythonData[0][\"woeid\"])"
   ]
  },
  {
   "cell_type": "code",
   "execution_count": 114,
   "metadata": {
    "tags": []
   },
   "outputs": [
    {
     "output_type": "stream",
     "name": "stdout",
     "text": [
      "200\nhttps://holidayapi.com/v1/holidays?country=IN&key=5d9598aa-109e-4ea5-9def-709ed3b61043&year=2020&date=2020-10-02\nMahatma Gandhi Jayanti\n"
     ]
    }
   ],
   "source": [
    "#Find name of holiday on 2nd October 2020 in country India.\n",
    "#You can read the documentation here : https://holidayapi.com/\n",
    "import requests\n",
    "import json\n",
    "response = requests.get(\"https://holidayapi.com/v1/holidays\",params={\"country\":\"IN\",\"key\":\"5d9598aa-109e-4ea5-9def-709ed3b61043\",\"year\":\"2020\",\"date\":\"2020-10-02\"})\n",
    "# print(response.status_code)\n",
    "# print(response.url)\n",
    "if(response.status_code//100 == 2):\n",
    "    pythonData = json.loads(response.text)\n",
    "    holidays = pythonData[\"holidays\"]\n",
    "    for ele in holidays:\n",
    "        if ele[\"date\"] == \"2020-10-02\":\n",
    "            print(ele[\"name\"])"
   ]
  },
  {
   "cell_type": "code",
   "execution_count": 1,
   "metadata": {},
   "outputs": [],
   "source": [
    "#ta\n",
    "import requests\n",
    "response=requests.get(\"https://holidayapi.com/v1/holidays\",params={\"country\":\"IN\",\"key\":\"61b43d2d-8736-49b6-a7c5-e7723d98995c\",\"year\":'2020','date':\"2020-10-02\"}) \n",
    "python_data=response.json()[\"holidays\"]\n",
    "\n"
   ]
  },
  {
   "source": [
    "### Post"
   ],
   "cell_type": "markdown",
   "metadata": {}
  },
  {
   "cell_type": "code",
   "execution_count": 3,
   "metadata": {},
   "outputs": [
    {
     "output_type": "stream",
     "name": "stdout",
     "text": [
      "{\n  \"args\": {}, \n  \"data\": \"\", \n  \"files\": {}, \n  \"form\": {}, \n  \"headers\": {\n    \"Accept\": \"*/*\", \n    \"Accept-Encoding\": \"gzip, deflate\", \n    \"Content-Length\": \"0\", \n    \"Host\": \"httpbin.org\", \n    \"User-Agent\": \"python-requests/2.24.0\", \n    \"X-Amzn-Trace-Id\": \"Root=1-60a374b0-0bbd0ab4030dc55e618139f5\"\n  }, \n  \"json\": null, \n  \"origin\": \"103.124.108.62\", \n  \"url\": \"http://httpbin.org/post\"\n}\n\n"
     ]
    }
   ],
   "source": [
    "import requests\n",
    "response = requests.post(\"http://httpbin.org/post\")\n",
    "print(response.text)"
   ]
  },
  {
   "cell_type": "code",
   "execution_count": 4,
   "metadata": {},
   "outputs": [
    {
     "output_type": "stream",
     "name": "stdout",
     "text": [
      "{\n  \"args\": {}, \n  \"data\": \"\", \n  \"files\": {}, \n  \"form\": {\n    \"key1\": \"val1\", \n    \"key2\": \"val2\"\n  }, \n  \"headers\": {\n    \"Accept\": \"*/*\", \n    \"Accept-Encoding\": \"gzip, deflate\", \n    \"Content-Length\": \"19\", \n    \"Content-Type\": \"application/x-www-form-urlencoded\", \n    \"Host\": \"httpbin.org\", \n    \"User-Agent\": \"python-requests/2.24.0\", \n    \"X-Amzn-Trace-Id\": \"Root=1-60a374ef-2bf9d8cb7a538e161058b47e\"\n  }, \n  \"json\": null, \n  \"origin\": \"103.124.108.62\", \n  \"url\": \"http://httpbin.org/post\"\n}\n\n"
     ]
    }
   ],
   "source": [
    "response = requests.post(\"http://httpbin.org/post\", data={\"key1\":\"val1\",\"key2\":\"val2\"})\n",
    "print(response.text)"
   ]
  },
  {
   "cell_type": "code",
   "execution_count": 5,
   "metadata": {},
   "outputs": [
    {
     "output_type": "stream",
     "name": "stdout",
     "text": [
      "{\n  \"args\": {}, \n  \"data\": \"\", \n  \"files\": {}, \n  \"form\": {\n    \"key1\": [\n      \"val1\", \n      \"val11\"\n    ], \n    \"key2\": \"val2\"\n  }, \n  \"headers\": {\n    \"Accept\": \"*/*\", \n    \"Accept-Encoding\": \"gzip, deflate\", \n    \"Content-Length\": \"30\", \n    \"Content-Type\": \"application/x-www-form-urlencoded\", \n    \"Host\": \"httpbin.org\", \n    \"User-Agent\": \"python-requests/2.24.0\", \n    \"X-Amzn-Trace-Id\": \"Root=1-60a3751d-76d8c5552d336a4f3295b0a5\"\n  }, \n  \"json\": null, \n  \"origin\": \"103.124.108.62\", \n  \"url\": \"http://httpbin.org/post\"\n}\n\n"
     ]
    }
   ],
   "source": [
    "response = requests.post(\"http://httpbin.org/post\", data={\"key1\":[\"val1\",\"val11\"],\"key2\":\"val2\"})\n",
    "print(response.text)"
   ]
  },
  {
   "cell_type": "code",
   "execution_count": 6,
   "metadata": {},
   "outputs": [
    {
     "output_type": "stream",
     "name": "stdout",
     "text": [
      "{\n  \"args\": {}, \n  \"data\": \"\", \n  \"files\": {}, \n  \"form\": {\n    \"key1\": \"val1\", \n    \"key2\": \"val2\", \n    \"key3\": \"val3\"\n  }, \n  \"headers\": {\n    \"Accept\": \"*/*\", \n    \"Accept-Encoding\": \"gzip, deflate\", \n    \"Content-Length\": \"29\", \n    \"Content-Type\": \"application/x-www-form-urlencoded\", \n    \"Host\": \"httpbin.org\", \n    \"User-Agent\": \"python-requests/2.24.0\", \n    \"X-Amzn-Trace-Id\": \"Root=1-60a375b9-21a5bcf751aff2fc4566a572\"\n  }, \n  \"json\": null, \n  \"origin\": \"103.124.108.62\", \n  \"url\": \"http://httpbin.org/post\"\n}\n\n"
     ]
    }
   ],
   "source": [
    "response = requests.post(\"http://httpbin.org/post\", data=[(\"key1\",\"val1\"),(\"key2\",\"val2\"),(\"key3\",\"val3\")])\n",
    "print(response.text)"
   ]
  }
 ]
}