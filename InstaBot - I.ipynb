{
 "metadata": {
  "language_info": {
   "codemirror_mode": {
    "name": "ipython",
    "version": 3
   },
   "file_extension": ".py",
   "mimetype": "text/x-python",
   "name": "python",
   "nbconvert_exporter": "python",
   "pygments_lexer": "ipython3",
   "version": "3.8.5"
  },
  "orig_nbformat": 2,
  "kernelspec": {
   "name": "python3",
   "display_name": "Python 3.8.5 64-bit ('base': conda)"
  },
  "interpreter": {
   "hash": "1e915f0a29dc84041eaeb02b7b1a21c440e37a87b61d44d5e84a515737dc82bc"
  }
 },
 "nbformat": 4,
 "nbformat_minor": 2,
 "cells": [
  {
   "source": [
    "# InstaBot Introduction - Part 1"
   ],
   "cell_type": "markdown",
   "metadata": {}
  },
  {
   "source": [
    "### Your friend has opened a new Food Blogging handle on Instagram and wants to get famous. He wants to follow a lot of people so that he can get noticed quickly but it is a tedious task so he asks you to help him. As you have just learned automation using Selenium, you decided to help him by creating an Instagram Bot.\n",
    "#### You need to create different functions for each task."
   ],
   "cell_type": "markdown",
   "metadata": {}
  },
  {
   "cell_type": "code",
   "execution_count": 120,
   "metadata": {},
   "outputs": [],
   "source": [
    "# Importing necessary libraries\n",
    "from selenium import webdriver\n",
    "from selenium.webdriver.common.keys import Keys\n",
    "import time\n",
    "from selenium.webdriver.common.by import By\n",
    "from selenium.webdriver.support.ui import WebDriverWait\n",
    "from selenium.webdriver.support import expected_conditions as EC\n",
    "from bs4 import BeautifulSoup\n",
    "from selenium.common.exceptions import NoSuchElementException,StaleElementReferenceException"
   ]
  },
  {
   "cell_type": "code",
   "execution_count": 121,
   "metadata": {},
   "outputs": [],
   "source": [
    "# Connecting to chrome webdriver object\n",
    "driver = webdriver.Chrome(executable_path=\"D:\\Softwares\\Selenium\\chromedriver\")"
   ]
  },
  {
   "cell_type": "code",
   "execution_count": 122,
   "metadata": {},
   "outputs": [],
   "source": [
    "# Instagram url\n",
    "url = 'https://www.instagram.com/'"
   ]
  },
  {
   "cell_type": "code",
   "execution_count": 123,
   "metadata": {},
   "outputs": [],
   "source": [
    "def goHomeInsta():\n",
    "    url = 'https://www.instagram.com/'\n",
    "    driver.get(url)"
   ]
  },
  {
   "cell_type": "code",
   "execution_count": 124,
   "metadata": {},
   "outputs": [],
   "source": [
    "goHomeInsta()"
   ]
  },
  {
   "source": [
    "## Task 1 : Login to your Instagram Handle\n",
    "1.1 Submit with sample username and password"
   ],
   "cell_type": "markdown",
   "metadata": {}
  },
  {
   "cell_type": "code",
   "execution_count": 125,
   "metadata": {},
   "outputs": [],
   "source": [
    "def login(paraUsername, paraPassword):\n",
    "\n",
    "    username = WebDriverWait(driver,10).until(EC.element_to_be_clickable((By.CSS_SELECTOR, \"input[name='username'\")))\n",
    "    password = WebDriverWait(driver,10).until(EC.element_to_be_clickable((By.CSS_SELECTOR, \"input[name='password'\")))\n",
    "\n",
    "    username.clear()\n",
    "    password.clear()\n",
    "\n",
    "    username.send_keys(paraUsername)\n",
    "    password.send_keys(paraPassword)\n",
    "\n",
    "    loginBtn = WebDriverWait(driver,10).until(EC.element_to_be_clickable((By.CSS_SELECTOR, \"button[type = 'submit']\"))).click()\n",
    "\n",
    "    saveLoginInfoNotNowBtn = WebDriverWait(driver,10).until(EC.element_to_be_clickable((By.XPATH, \"//button[contains(text(), 'Not Now')]\"))).click()\n",
    "    notificationNotNowBtn = WebDriverWait(driver,10).until(EC.element_to_be_clickable((By.XPATH, \"//button[contains(text(), 'Not Now')]\"))).click()\n",
    "\n",
    "\n",
    "    print(\"Login Successful\")"
   ]
  },
  {
   "cell_type": "code",
   "execution_count": 126,
   "metadata": {},
   "outputs": [
    {
     "output_type": "stream",
     "name": "stdout",
     "text": [
      "Login Successful\n"
     ]
    }
   ],
   "source": [
    "username = 'sampleUsername'\n",
    "password = 'samplePassword'\n",
    "login(username ,password)"
   ]
  },
  {
   "cell_type": "code",
   "execution_count": 127,
   "metadata": {},
   "outputs": [],
   "source": [
    "def logout():\n",
    "    time.sleep(2)\n",
    "    profileUrl = f'https://www.instagram.com/{username}/'\n",
    "    driver.get(profileUrl)\n",
    "    \n",
    "    profileIconBtn = WebDriverWait(driver,10).until(EC.element_to_be_clickable((By.XPATH,'//div[@class = \"Fifk5\"]/span'))).click()\n",
    "    logoutBtn = WebDriverWait(driver,10).until(EC.element_to_be_clickable((By.XPATH, '//*[@id=\"react-root\"]/section/nav/div[2]/div/div/div[3]/div/div[5]/div[2]/div[2]/div[2]/div[2]'))).click()\n",
    "    \n",
    "    print(\"Logout Successful\")"
   ]
  },
  {
   "cell_type": "code",
   "execution_count": 128,
   "metadata": {},
   "outputs": [],
   "source": [
    " #logout()"
   ]
  },
  {
   "source": [
    "## Task 2 : Type for “food” in search bar and print all the names of the Instagram Handles that are displayed in list after typing “food”\n",
    "Note : Make sure to avoid printing hashtags"
   ],
   "cell_type": "markdown",
   "metadata": {}
  },
  {
   "cell_type": "code",
   "execution_count": 129,
   "metadata": {},
   "outputs": [],
   "source": [
    "def getInstaHandles(keyword):\n",
    "\n",
    "    searchInput = WebDriverWait(driver,10).until(EC.element_to_be_clickable((By.XPATH, '//input[@placeholder = \"Search\"]')))\n",
    "    searchInput.clear()\n",
    "    time.sleep(2)\n",
    "\n",
    "    searchInput.send_keys(keyword)\n",
    "    element = WebDriverWait(driver,10).until(EC.presence_of_element_located((By.XPATH, '//a[@class = \"-qQT3\"]')))\n",
    "    handlesWebElements = driver.find_elements_by_xpath('//a[@class = \"-qQT3\"]')\n",
    "    \n",
    "    handles = []\n",
    "    try:\n",
    "        for i in handlesWebElements:\n",
    "            soup = BeautifulSoup(i.get_attribute('outerHTML'),'html.parser')\n",
    "            handle = soup.find(class_ = '_7UhW9').text\n",
    "            if handle[0] != \"#\":\n",
    "                handles.append(handle)\n",
    "    except StaleElementReferenceException:\n",
    "        print('Please check your keyword')\n",
    "    return handles"
   ]
  },
  {
   "cell_type": "code",
   "execution_count": 130,
   "metadata": {},
   "outputs": [
    {
     "output_type": "stream",
     "name": "stdout",
     "text": [
      "Instagram handles for keyword food are :\n",
      "foodadikande\n",
      "foodhunter_sabu\n",
      "foodtalkindia\n",
      "thispagewillmakeuhungry\n",
      "cochinfoodalert\n",
      "eatlikeamaniac\n",
      "food\n",
      "foodrush.recipe\n",
      "kerala.food.diaries\n",
      "breathe_food_kochi\n",
      "foodie_sha_\n",
      "keralafood\n",
      "refillyourtummy\n",
      "theindianfoodblogger\n",
      "delhi_streets_food\n",
      "yourfoodlab\n",
      "food_era_\n",
      "foodward_fyz\n",
      "foodrider_\n",
      "cochinfooddiaries\n",
      "foodiemenon\n",
      "salmanthefoodie\n",
      "foodie_raavanen\n",
      "foodencyclopediatrivandrum\n",
      "kozhikodenfoodies\n",
      "bisckoo\n",
      "foodie_incarnate\n",
      "kochin_food_blogger\n",
      "rahulsfoodscenes\n",
      "food_wackadoos\n",
      "villagefoodchannel_official\n",
      "foodaholic_malluboy\n",
      "foodzaara\n",
      "foodchrome\n",
      "food__destinations_\n",
      "foodie_she\n",
      "foodiekanyatales\n",
      "mumbaifoodie\n",
      "foodzeee\n",
      "calicut_foodmaniac\n",
      "wayward_gourmet\n",
      "hungrycochin\n",
      "foodsanyasi\n",
      "foodie_sisters.om\n",
      "food.branthan\n",
      "keralafoodie\n",
      "buzzforfood\n",
      "zeugar_foods\n",
      "the.food.busters\n",
      "Food Craft Institute, Kalamassery\n",
      "dying_for_food\n"
     ]
    }
   ],
   "source": [
    "keyword = 'food'\n",
    "print(f\"Instagram handles for keyword {keyword} are :\")\n",
    "for i in getInstaHandles(keyword):\n",
    "    print(i)"
   ]
  },
  {
   "source": [
    "## Task 3 :Searching and Opening a profile  \n",
    "3.1 Open profile of “So Delhi” "
   ],
   "cell_type": "markdown",
   "metadata": {}
  },
  {
   "cell_type": "code",
   "execution_count": 131,
   "metadata": {},
   "outputs": [],
   "source": [
    "def openProfile(handle):\n",
    "    try:\n",
    "        \n",
    "        searchInput = WebDriverWait(driver,10).until(EC.element_to_be_clickable((By.XPATH, '//input[@placeholder = \"Search\"]')))\n",
    "        searchInput.clear() \n",
    "        searchInput.send_keys(handle)\n",
    "        \n",
    "        time.sleep(1)\n",
    "        searchInput.send_keys(Keys.ENTER)\n",
    "        searchInput.send_keys(Keys.ENTER)\n",
    "        \n",
    "        return True\n",
    "    \n",
    "    except NoSuchElementException:\n",
    "        print('No Such Instagram Profile found')\n",
    "        return False"
   ]
  },
  {
   "cell_type": "code",
   "execution_count": 132,
   "metadata": {},
   "outputs": [
    {
     "output_type": "stream",
     "name": "stdout",
     "text": [
      "Profile opened\n"
     ]
    }
   ],
   "source": [
    "handle = \"sodelhi\"\n",
    "if openProfile(handle) == True:\n",
    "    print(\"Profile opened\")"
   ]
  },
  {
   "source": [
    "### Going to HomePage"
   ],
   "cell_type": "markdown",
   "metadata": {}
  },
  {
   "cell_type": "code",
   "execution_count": 133,
   "metadata": {},
   "outputs": [],
   "source": [
    "time.sleep(5)\n",
    "url = 'https://www.instagram.com/'\n",
    "driver.get(url)"
   ]
  },
  {
   "source": [
    "## Task 4 : Follow/Unfollow given handle \n",
    "4.1 Open the Instagram Handle of “So Delhi”\n",
    "\n",
    "4.2 Start following it. Print a message if you are already following\n",
    "\n",
    "4.3 After following, unfollow the instagram handle. Print a message if you have already unfollowed."
   ],
   "cell_type": "markdown",
   "metadata": {}
  },
  {
   "cell_type": "code",
   "execution_count": 134,
   "metadata": {},
   "outputs": [],
   "source": [
    "def followProfile(handle):\n",
    "    try:\n",
    "        if openProfile(handle) == True:\n",
    "            time.sleep(2)\n",
    "            if driver.find_elements_by_xpath('//button[contains(text(), \"Follow\")]'):\n",
    "                driver.find_element_by_xpath('//button[contains(text(), \"Follow\")]').click()\n",
    "                print(f'You are now following {handle}')\n",
    "            else:\n",
    "                print(f'You are already following {handle}')\n",
    "            \n",
    "    except e:\n",
    "        print(e)         "
   ]
  },
  {
   "cell_type": "code",
   "execution_count": 135,
   "metadata": {},
   "outputs": [],
   "source": [
    "def unfollowProfile(handle):\n",
    "    try:\n",
    "        if openProfile(handle) == True:\n",
    "            time.sleep(2)\n",
    "            if driver.find_elements_by_xpath('//button[contains(text(), \"Follow\")]'):\n",
    "                print(f'You are not following {handle}')\n",
    "            else:\n",
    "                driver.find_element_by_xpath('//button[@class = \"_5f5mN    -fzfL     _6VtSN     yZn4P   \"]').click()\n",
    "                WebDriverWait(driver,10).until(EC.element_to_be_clickable((By.XPATH, \"//button[contains(text(), 'Unfollow')]\"))).click()\n",
    "                print(f'You unfollowed {handle}')\n",
    "                \n",
    "    except e:\n",
    "        print(e)   "
   ]
  },
  {
   "cell_type": "code",
   "execution_count": 136,
   "metadata": {},
   "outputs": [
    {
     "output_type": "stream",
     "name": "stdout",
     "text": [
      "You are now following sodelhi\n"
     ]
    }
   ],
   "source": [
    "followProfile('sodelhi')"
   ]
  },
  {
   "source": [
    "### Going to HomePage"
   ],
   "cell_type": "markdown",
   "metadata": {}
  },
  {
   "cell_type": "code",
   "execution_count": 137,
   "metadata": {},
   "outputs": [],
   "source": [
    "time.sleep(5)\n",
    "url = 'https://www.instagram.com/'\n",
    "driver.get(url)"
   ]
  },
  {
   "cell_type": "code",
   "execution_count": 138,
   "metadata": {},
   "outputs": [
    {
     "output_type": "stream",
     "name": "stdout",
     "text": [
      "You unfollowed sodelhi\n"
     ]
    }
   ],
   "source": [
    "unfollowProfile('sodelhi')"
   ]
  },
  {
   "source": [
    "## Task 5 : Like/Unlike posts\n",
    "5.1 Liking the top 30 posts of the ‘dilsefoodie'. Print message if you have already liked it.\n",
    "\n",
    "5.2 Unliking the top 30 posts of the ‘dilsefoodie’. Print message if you have already unliked it."
   ],
   "cell_type": "markdown",
   "metadata": {}
  },
  {
   "cell_type": "code",
   "execution_count": 139,
   "metadata": {},
   "outputs": [],
   "source": [
    "def firstPost(handle):\n",
    "    if openProfile(handle) == True:\n",
    "        driver.refresh()\n",
    "        WebDriverWait(driver,10).until(EC.element_to_be_clickable((By.CLASS_NAME, 'kIKUG'))).click()"
   ]
  },
  {
   "cell_type": "code",
   "execution_count": 140,
   "metadata": {},
   "outputs": [],
   "source": [
    "def likePost(ipost):\n",
    "    likeBtn = WebDriverWait(driver,10).until(EC.element_to_be_clickable((By.CLASS_NAME, 'fr66n')))\n",
    "    soup = BeautifulSoup(likeBtn.get_attribute('innerHTML'),'html.parser')\n",
    "    if (soup.find('svg')['aria-label'] == 'Like'):\n",
    "        likeBtn.click()\n",
    "        print(f\"Post {ipost} liked\")\n",
    "    else:\n",
    "        print(f\"Already liked post {ipost}\")"
   ]
  },
  {
   "cell_type": "code",
   "execution_count": 141,
   "metadata": {},
   "outputs": [],
   "source": [
    "def unlikePost(ipost):\n",
    "    unlikeBtn = WebDriverWait(driver,10).until(EC.element_to_be_clickable((By.CLASS_NAME, 'fr66n')))\n",
    "    soup = BeautifulSoup(unlikeBtn.get_attribute('innerHTML'),'html.parser')\n",
    "    if (soup.find('svg')['aria-label'] == 'Unlike'):\n",
    "        unlikeBtn.click()\n",
    "        print(f\"Post {ipost} unliked\")\n",
    "    else:\n",
    "        print(f\"Already unliked post {ipost}\")"
   ]
  },
  {
   "cell_type": "code",
   "execution_count": 142,
   "metadata": {},
   "outputs": [],
   "source": [
    "def nextPost():\n",
    "    time.sleep(2)\n",
    "    try:\n",
    "        nexPos = WebDriverWait(driver,10).until(EC.element_to_be_clickable((By.CLASS_NAME, 'coreSpriteRightPaginationArrow')))\n",
    "        return nexPos\n",
    "    except NoSuchElementException:\n",
    "        return 0"
   ]
  },
  {
   "cell_type": "code",
   "execution_count": 143,
   "metadata": {},
   "outputs": [],
   "source": [
    "def continueLiking(numPostsToBeLiked,ipost):\n",
    "    \n",
    "    while(True and numPostsToBeLiked>1):\n",
    "        nextEle = nextPost()\n",
    "        if nextEle != False :\n",
    "            nextEle.click()\n",
    "            ipost+=1\n",
    "            likePost(ipost)\n",
    "            numPostsToBeLiked-=1\n",
    "        else :\n",
    "            print(\"not found\")\n",
    "            break"
   ]
  },
  {
   "cell_type": "code",
   "execution_count": 144,
   "metadata": {},
   "outputs": [],
   "source": [
    "def continueUnliking(numPostsToBeUnliked,ipost):\n",
    "    \n",
    "    while(True and numPostsToBeUnliked>1):\n",
    "        nextEle = nextPost()\n",
    "        if nextEle != False :\n",
    "            nextEle.click()\n",
    "            ipost+=1\n",
    "            unlikePost(ipost)\n",
    "            numPostsToBeUnliked-=1\n",
    "        else :\n",
    "            print(\"not found\")\n",
    "            break"
   ]
  },
  {
   "source": [
    "### Liking Posts"
   ],
   "cell_type": "markdown",
   "metadata": {}
  },
  {
   "cell_type": "code",
   "execution_count": 145,
   "metadata": {},
   "outputs": [],
   "source": [
    "time.sleep(5)"
   ]
  },
  {
   "cell_type": "code",
   "execution_count": 146,
   "metadata": {},
   "outputs": [
    {
     "output_type": "stream",
     "name": "stdout",
     "text": [
      "Post 1 liked\n",
      "Post 2 liked\n",
      "Post 3 liked\n",
      "Post 4 liked\n",
      "Post 5 liked\n",
      "Post 6 liked\n",
      "Post 7 liked\n",
      "Post 8 liked\n",
      "Post 9 liked\n",
      "Post 10 liked\n",
      "Post 11 liked\n",
      "Post 12 liked\n",
      "Post 13 liked\n",
      "Post 14 liked\n",
      "Post 15 liked\n",
      "Post 16 liked\n",
      "Post 17 liked\n",
      "Post 18 liked\n",
      "Post 19 liked\n",
      "Post 20 liked\n",
      "Post 21 liked\n",
      "Post 22 liked\n",
      "Post 23 liked\n",
      "Post 24 liked\n",
      "Post 25 liked\n",
      "Post 26 liked\n",
      "Post 27 liked\n",
      "Post 28 liked\n",
      "Post 29 liked\n",
      "Post 30 liked\n"
     ]
    }
   ],
   "source": [
    "\n",
    "handle = 'dilsefoodie'\n",
    "numPostsToBeLiked = 30\n",
    "ipost = 1\n",
    "goHomeInsta()\n",
    "firstPost(handle)\n",
    "likePost(ipost)\n",
    "continueLiking(numPostsToBeLiked,ipost)\n"
   ]
  },
  {
   "source": [
    "### Unliking Posts"
   ],
   "cell_type": "markdown",
   "metadata": {}
  },
  {
   "cell_type": "code",
   "execution_count": 147,
   "metadata": {},
   "outputs": [
    {
     "output_type": "stream",
     "name": "stdout",
     "text": [
      "Post 1 unliked\n",
      "Post 2 unliked\n",
      "Post 3 unliked\n",
      "Post 4 unliked\n",
      "Post 5 unliked\n",
      "Post 6 unliked\n",
      "Post 7 unliked\n",
      "Post 8 unliked\n",
      "Post 9 unliked\n",
      "Post 10 unliked\n",
      "Post 11 unliked\n",
      "Post 12 unliked\n",
      "Post 13 unliked\n",
      "Post 14 unliked\n",
      "Post 15 unliked\n",
      "Post 16 unliked\n",
      "Post 17 unliked\n",
      "Post 18 unliked\n",
      "Post 19 unliked\n",
      "Post 20 unliked\n",
      "Post 21 unliked\n",
      "Post 22 unliked\n",
      "Post 23 unliked\n",
      "Post 24 unliked\n",
      "Post 25 unliked\n",
      "Post 26 unliked\n",
      "Post 27 unliked\n",
      "Post 28 unliked\n",
      "Post 29 unliked\n",
      "Post 30 unliked\n"
     ]
    }
   ],
   "source": [
    "\n",
    "handle = 'dilsefoodie'\n",
    "numPostsToBeUnliked = 30\n",
    "ipost = 1\n",
    "goHomeInsta()\n",
    "firstPost(handle)\n",
    "unlikePost(ipost)\n",
    "continueUnliking(numPostsToBeUnliked,ipost)"
   ]
  },
  {
   "cell_type": "code",
   "execution_count": null,
   "metadata": {},
   "outputs": [],
   "source": []
  },
  {
   "source": [
    "## Task 6 : Extract list of followers\n",
    "6.1 Extract the usernames of the first 500 followers of ‘foodtalkindia’ and ‘sodelhi’.\n",
    "\n",
    "6.2 Now print all the followers of “foodtalkindia” that you are following but those who don’t follow you."
   ],
   "cell_type": "markdown",
   "metadata": {}
  },
  {
   "cell_type": "code",
   "execution_count": 148,
   "metadata": {},
   "outputs": [],
   "source": [
    "def getFollowersList(countOfUsernames,handle):\n",
    "    goHomeInsta()\n",
    "    openProfile(handle)\n",
    "\n",
    "    WebDriverWait(driver,10).until(EC.element_to_be_clickable((By.XPATH, '//li[@class = \"Y8-fY \"]')))\n",
    "    driver.find_elements_by_xpath(\"//li[@class = 'Y8-fY ']\")[1].click()\n",
    "    WebDriverWait(driver,10).until(EC.presence_of_all_elements_located((By.XPATH, \"//div[@class = 'isgrP']\")))\n",
    "    \n",
    "    print(f\"The First {countOfUsernames} Followers of handle {handle} are :\")\n",
    "\n",
    "    followersPanel = driver.find_element_by_xpath('//div[contains(@class,\"isgrP\")]')\n",
    "    currentScrollPos, newHeight = 0,1\n",
    "    i = 0\n",
    "    handleFollowersList = []\n",
    "    while i < countOfUsernames:\n",
    "        \n",
    "        try:\n",
    "            follower = driver.find_elements_by_xpath(\"//div[@class = 'PZuss']/li\")[i]\n",
    "            print(i+1, follower.text.split()[0])\n",
    "            handleFollowersList.append(follower.text.split()[0])\n",
    "            i = i+1\n",
    "        \n",
    "        except IndexError :\n",
    "            speed = 50\n",
    "            currentScrollPos = newHeight\n",
    "            newHeight = driver.execute_script(\"return arguments[0].scrollHeight\",followersPanel)     \n",
    "            #print(currentScrollPos,newHeight)\n",
    "            while currentScrollPos <= newHeight:\n",
    "                currentScrollPos += speed\n",
    "                driver.execute_script(\"arguments[0].scrollTo(0,arguments[1])\",followersPanel, currentScrollPos)\n",
    "        time.sleep(2)\n",
    "    return handleFollowersList"
   ]
  },
  {
   "cell_type": "code",
   "execution_count": 149,
   "metadata": {},
   "outputs": [
    {
     "output_type": "stream",
     "name": "stdout",
     "text": [
      "The First 100 Followers of handle foodtalkindia are :\n",
      "1 kokaresushama\n",
      "2 kishore_murugan143\n",
      "3 pr_adeep4830\n",
      "4 moni_piya\n",
      "5 born__kaur\n",
      "6 thefoodiefashionista12\n",
      "7 __tale_of_yum__\n",
      "8 franbizx\n",
      "9 vikrantj09\n",
      "10 neeraj_shinde\n",
      "11 prajwal8321\n",
      "12 nilofer.e\n",
      "13 s_k_singh_patel\n",
      "14 fastfood_network\n",
      "15 akash_kumar8299\n",
      "16 __junni__thakur__\n",
      "17 akash__2209\n",
      "18 annie_kaur95\n",
      "19 brilliant_virat\n",
      "20 yash.kasotia\n",
      "21 thecookingterror\n",
      "22 sharukpathan6118\n",
      "23 poooja_verma_\n",
      "24 yasirkhan8301\n",
      "25 nandita.sanjeevi\n",
      "26 thepasteleriablog\n",
      "27 kashishmakeovers_\n",
      "28 kritika_sinha\n",
      "29 onerelaxingpage\n",
      "30 sheshnathrajesh\n",
      "31 agnelo_v\n",
      "32 raaz_shauk_01\n",
      "33 supreetkaur3707\n",
      "34 mmaztroking\n",
      "35 anshita_dawar\n",
      "36 hoorain9069\n",
      "37 mystriousgirl9876\n",
      "38 mr_jameer_420_official\n",
      "39 kishpreet\n",
      "40 __xteen_\n",
      "41 piyush_katare_22\n",
      "42 devikahsharma\n",
      "43 vijihari18\n",
      "44 sanjugupta3807\n",
      "45 rahul2rahul1984\n",
      "46 surajsinhjankat\n",
      "47 foodie_stall\n",
      "48 shivam_wafgaonkar\n",
      "49 ravish1776\n",
      "50 awomanwiththecamera\n",
      "51 pranavobhrai\n",
      "52 revathiyellapu\n",
      "53 automobiles.ds\n",
      "54 javed___ali__72\n",
      "55 c.o.l.l.e.c.t.v.e___world\n",
      "56 supremekitchen21\n",
      "57 jyoti_.setia\n",
      "58 highonganache\n",
      "59 f_i_g_h_t_e_rhuzaifa\n",
      "60 bearbigshow\n",
      "61 sahiti_palem\n",
      "62 vaishnavipatil.277\n",
      "63 nd_538\n",
      "64 lohiashalini\n",
      "65 madhura_shettyy\n",
      "66 sreejanbarman\n",
      "67 _tanyaa07_\n",
      "68 makeover_by_paramesh\n",
      "69 indira_gandhi_123\n",
      "70 animeshnayak90\n",
      "71 jovonstrudel\n",
      "72 aishhwarya___\n",
      "73 syedasadali7\n",
      "74 pepper.mumbai\n",
      "75 cuty.megha26\n",
      "76 preetik299\n",
      "77 gunvirrana\n",
      "78 foodiefreak22\n",
      "79 ilakkiyapandian2912\n",
      "80 inikitarathod\n",
      "81 jayaak2602\n",
      "82 amlandutta05\n",
      "83 food_is_fule\n",
      "84 drdetoxifier\n",
      "85 pshikha1007\n",
      "86 ashmithashetty\n",
      "87 suchitra_abbireddy\n",
      "88 nikita.a.d\n",
      "89 daastan_musafir\n",
      "90 pop.culture.queen\n",
      "91 mmpugal\n",
      "92 simonaincantalupo\n",
      "93 tale_of_yummy_food\n",
      "94 raju.bollaram.14\n",
      "95 saumya1223\n",
      "96 monu_sb_9999\n",
      "97 cravingsbyvarsha\n",
      "98 kanchi.shah11\n",
      "99 woodsychef\n",
      "100 varishsahu\n"
     ]
    }
   ],
   "source": [
    "handle = 'foodtalkindia'\n",
    "countOfUsernames = 100\n",
    "handleFollowersList = getFollowersList(countOfUsernames, handle)"
   ]
  },
  {
   "cell_type": "code",
   "execution_count": 150,
   "metadata": {},
   "outputs": [
    {
     "output_type": "stream",
     "name": "stdout",
     "text": [
      "The First 100 Followers of handle sodelhi are :\n",
      "1 saranyaujit\n",
      "2 m_r_dhruv_001\n",
      "3 karishma_archit_dwivedi\n",
      "4 tania__max\n",
      "5 kavita.tayade\n",
      "6 honey_shahid_ali_\n",
      "7 amruthsama\n",
      "8 _.rashmmii._\n",
      "9 jagu_rane_94\n",
      "10 asif_as_if\n",
      "11 monishasharma46\n",
      "12 kanojia5533\n",
      "13 jhalki_\n",
      "14 pink__diamond.__\n",
      "15 jimmybaby2309\n",
      "16 khushiii_grover\n",
      "17 anuragg018\n",
      "18 journeywithashish\n",
      "19 afshanaamir1997\n",
      "20 divyaa_nebhnani\n",
      "21 anu__0607\n",
      "22 _asmita_pawar__\n",
      "23 _rakhi_nagar\n",
      "24 tejaschevli\n",
      "25 charles_5649\n",
      "26 heemanshusuri\n",
      "27 pavanku_0009\n",
      "28 munazzar_hassan\n",
      "29 digvijay_talan\n",
      "30 anaar_dana\n",
      "31 _______mr.failure_______\n",
      "32 ansaf_sahib__parayil\n",
      "33 ameperdue90\n",
      "34 _priya_40_40__\n",
      "35 asif.voa\n",
      "36 sunima1788\n",
      "37 rav_mtl\n",
      "38 asadgs6\n",
      "39 khaidem_vinita\n",
      "40 sahityakadam\n",
      "41 firestone_sky_\n",
      "42 makwana_242\n",
      "43 apoorvaverma__\n",
      "44 _.sutho_op\n",
      "45 guptavineet88\n",
      "46 vidhiagrawal30\n",
      "47 jaanu__jaan001_s\n",
      "48 aashnashah._\n",
      "49 pr.iyanshu9739\n",
      "50 mahesh__orcas\n",
      "51 urmilasharki36\n",
      "52 faizan_shk19\n",
      "53 jeevikagambhir10\n",
      "54 mdmoin_k\n",
      "55 abhiram_sathyan16\n",
      "56 raghujagannathan\n",
      "57 imanatrandhawa\n",
      "58 mani_98587\n",
      "59 saurabh.damale.1\n",
      "60 meenazl\n",
      "61 indiagreatkitchen\n",
      "62 hashim_arafath\n",
      "63 this_is_suni\n",
      "64 sanket.mestry.19\n",
      "65 shitu550\n",
      "66 tarunn_shahdadpuri_\n",
      "67 sejal__60\n",
      "68 mehakgupta014\n",
      "69 amandeepkaurchabbra\n",
      "70 gupta.pooja44\n",
      "71 thahir_falconz\n",
      "72 saifan_bin_haji_1008\n",
      "73 siva__pra__sad\n",
      "74 alagan.menstudio\n",
      "75 _ananyapandey\n",
      "76 paayalbatheja\n",
      "77 zorba_thecakestudio\n",
      "78 imrizwan_1\n",
      "79 aayushikapur\n",
      "80 rahulm_76\n",
      "81 saitejaworld\n",
      "82 m.i.r.z.a__\n",
      "83 sanjay_earla_\n",
      "84 georgejeong43\n",
      "85 vidhya199325\n",
      "86 sowmikavi\n",
      "87 jahnavii_07\n",
      "88 its___nain_\n",
      "89 barkha.lahoriya04\n",
      "90 pnkirank\n",
      "91 hash_i_m47\n",
      "92 aastha18__\n",
      "93 hemant6404\n",
      "94 ll._yogendra_.ll\n",
      "95 the_mr_bean____\n",
      "96 surbhi_tkr\n",
      "97 001nikhildagar\n",
      "98 tomar_karunya\n",
      "99 atulsahnan\n",
      "100 sharma.neeraj840\n"
     ]
    }
   ],
   "source": [
    "handle = 'sodelhi'\n",
    "countOfUsernames = 100\n",
    "sodelhiFollowersList = getFollowersList(countOfUsernames, handle)"
   ]
  },
  {
   "source": [
    "6.2 Now print all the followers of “foodtalkindia” that you are following but those who don’t follow you."
   ],
   "cell_type": "markdown",
   "metadata": {}
  },
  {
   "cell_type": "code",
   "execution_count": 151,
   "metadata": {},
   "outputs": [],
   "source": [
    "def myFollowings():\n",
    "    profileUrl = f'https://www.instagram.com/{username}/'\n",
    "    driver.get(profileUrl)\n",
    "\n",
    "    WebDriverWait(driver,10).until(EC.element_to_be_clickable((By.XPATH, \"//span[@class = 'g47SY ']\")))\n",
    "    countOfFollowings = int(driver.find_elements_by_xpath(\"//span[@class = 'g47SY ']\")[2].text)\n",
    "    #print(countOfFollowings,type(countOfFollowings))\n",
    "\n",
    "    WebDriverWait(driver,10).until(EC.element_to_be_clickable((By.XPATH,'//li[@class = \"Y8-fY \"]')))\n",
    "    driver.find_elements_by_xpath(\"//li[@class = 'Y8-fY ']\")[2].click()\n",
    "\n",
    "    followersPanel = driver.find_element_by_xpath('//div[contains(@class,\"isgrP\")]')\n",
    "    currentScrollPos, newHeight = 0,1\n",
    "    i = 0\n",
    "\n",
    "    myFollowingsList = []\n",
    "\n",
    "    while i < countOfFollowings:\n",
    "        \n",
    "        try:\n",
    "            follower = driver.find_elements_by_xpath(\"//div[@class = 'PZuss']/li\")[i]\n",
    "            #print(i+1, follower.text.split()[0])\n",
    "            myFollowingsList.append(follower.text.split()[0])\n",
    "            i = i+1\n",
    "        \n",
    "        except IndexError :\n",
    "            speed = 50\n",
    "            currentScrollPos = newHeight\n",
    "            newHeight = driver.execute_script(\"return arguments[0].scrollHeight\",followersPanel)     \n",
    "            \n",
    "            while currentScrollPos <= newHeight:\n",
    "                currentScrollPos += speed\n",
    "                driver.execute_script(\"arguments[0].scrollTo(0,arguments[1])\",followersPanel, currentScrollPos)\n",
    "        time.sleep(2)\n",
    "    return myFollowingsList\n"
   ]
  },
  {
   "cell_type": "code",
   "execution_count": 152,
   "metadata": {},
   "outputs": [],
   "source": [
    "def myFollowers():\n",
    "    profileUrl = f'https://www.instagram.com/{username}/'\n",
    "    driver.get(profileUrl)\n",
    "\n",
    "    WebDriverWait(driver,10).until(EC.element_to_be_clickable((By.XPATH, \"//span[@class = 'g47SY ']\")))\n",
    "    countOfFollowers = int(driver.find_elements_by_xpath(\"//span[@class = 'g47SY ']\")[1].text)\n",
    "    #print(countOfFollowers,type(countOfFollowers))\n",
    "\n",
    "    WebDriverWait(driver,10).until(EC.element_to_be_clickable((By.XPATH,'//li[@class = \"Y8-fY \"]')))\n",
    "    driver.find_elements_by_xpath(\"//li[@class = 'Y8-fY ']\")[1].click()\n",
    "    WebDriverWait(driver,10).until(EC.presence_of_all_elements_located((By.XPATH, \"//div[@class = 'isgrP']\")))\n",
    "    \n",
    "    followersPanel = driver.find_element_by_xpath('//div[contains(@class,\"isgrP\")]')\n",
    "    currentScrollPos, newHeight = 0,1\n",
    "    i = 0\n",
    "\n",
    "    myFollowersList = []\n",
    "\n",
    "    while i < countOfFollowers:\n",
    "        \n",
    "        try:\n",
    "            follower = driver.find_elements_by_xpath(\"//div[@class = 'PZuss']/li\")[i]\n",
    "            #print(i+1, follower.text.split()[0])\n",
    "            myFollowersList.append(follower.text.split()[0])\n",
    "            i = i+1\n",
    "        \n",
    "        except IndexError :\n",
    "            speed = 50\n",
    "            currentScrollPos = newHeight\n",
    "            newHeight = driver.execute_script(\"return arguments[0].scrollHeight\",followersPanel)     \n",
    "            \n",
    "            while currentScrollPos <= newHeight:\n",
    "                currentScrollPos += speed\n",
    "                driver.execute_script(\"arguments[0].scrollTo(0,arguments[1])\",followersPanel, currentScrollPos)\n",
    "        time.sleep(2)\n",
    "    return myFollowersList"
   ]
  },
  {
   "cell_type": "code",
   "execution_count": 153,
   "metadata": {},
   "outputs": [],
   "source": [
    "def jerks():\n",
    "    myFollowingsList = myFollowings()\n",
    "    myFollowersList = myFollowers()\n",
    "    jerkList = set(myFollowingsList) - set(myFollowersList)\n",
    "    return jerkList"
   ]
  },
  {
   "cell_type": "code",
   "execution_count": 154,
   "metadata": {},
   "outputs": [
    {
     "output_type": "stream",
     "name": "stdout",
     "text": [
      "Users who do not follow back\n-----------------------------\nsexeducation\nkevincanfhimself\nkiaraaliaadvani\nalicasmd\n_archana__anil\neshhpat\naksharpathak\ndundermifflinclips\ntheindianidiot\nbhuvan.bam22\nrenukanair11\nalexandradaddario\nbbcfleabag\nsampada1607\nconscious.scientist\nlaurenfisher\npoopcultureindia\nfoodadikande\naleena_rais_insta\nadeebaanaaz\nscottbrits\ntheoffice\nemmatmackey\n"
     ]
    }
   ],
   "source": [
    "jerkList = jerks()\n",
    "print(\"Users who do not follow back\")\n",
    "print(\"-----------------------------\")\n",
    "for jerk in jerkList:\n",
    "    print(jerk)"
   ]
  },
  {
   "cell_type": "code",
   "execution_count": 155,
   "metadata": {},
   "outputs": [
    {
     "output_type": "stream",
     "name": "stdout",
     "text": [
      "No Such Users\n"
     ]
    }
   ],
   "source": [
    "superJerksList = set(handleFollowersList).intersection(jerkList)\n",
    "if len(superJerksList) == 0:\n",
    "    print(\"No Such Users\")\n",
    "else:\n",
    "    print(\"All the followers of “foodtalkindia” that you are following but those who don’t follow you, are\")\n",
    "    print(\"------------------------------------------------------------------------------------------------\")\n",
    "    for jerk in superJerksList:\n",
    "        print(jerk)"
   ]
  },
  {
   "source": [
    "## Task 7 : Check the story of ‘coding.ninjas’. Consider the following Scenarios and print error messages accordingly -\n",
    "7.1 If You have already seen the story.\n",
    "\n",
    "7.2 Or The user has no story.\n",
    "\n",
    "7.3 Or View the story if not yet seen."
   ],
   "cell_type": "markdown",
   "metadata": {}
  },
  {
   "cell_type": "code",
   "execution_count": 156,
   "metadata": {},
   "outputs": [],
   "source": [
    "def watchStory(handle):\n",
    "    goHomeInsta()\n",
    "    openProfile(handle)\n",
    "    \n",
    "    try:\n",
    "        driver.find_element_by_xpath('//div[@class = \"RR-M- h5uC0\"]').click()\n",
    "        \n",
    "        height = driver.find_element_by_xpath(\"//div[@class = 'RR-M- h5uC0']//canvas\").get_attribute('height')\n",
    "        width = driver.find_element_by_xpath(\"//div[@class = 'RR-M- h5uC0']//canvas\").get_attribute('width')\n",
    "        #print(height,width)\n",
    "        if height == '68' and width == '68':\n",
    "            driver.find_element_by_xpath('//div[@class = \"RR-M- h5uC0\"]').click()\n",
    "            time.sleep(5)\n",
    "#             to close the story\n",
    "            #close_btn = driver.find_element_by_xpath('//div[@class = \"K_10X\"]/button/div')\n",
    "            #close_btn.click()\n",
    "            print(f\"Just viewed {handle}'s story\")\n",
    "        elif height == '65' and width == '65':\n",
    "            print(f'You have already viewed {handle}\\'s story')\n",
    "            \n",
    "    except NoSuchElementException:\n",
    "        print(\"User has no story\")"
   ]
  },
  {
   "cell_type": "code",
   "execution_count": 157,
   "metadata": {},
   "outputs": [
    {
     "output_type": "stream",
     "name": "stdout",
     "text": [
      "You have already viewed coding.ninjas's story\n"
     ]
    }
   ],
   "source": [
    " handle = 'coding.ninjas'\n",
    " watchStory(handle)"
   ]
  },
  {
   "source": [
    "## Logging out of Instagram"
   ],
   "cell_type": "markdown",
   "metadata": {}
  },
  {
   "cell_type": "code",
   "execution_count": 158,
   "metadata": {},
   "outputs": [
    {
     "output_type": "stream",
     "name": "stdout",
     "text": [
      "Logout Successful\n"
     ]
    }
   ],
   "source": [
    "logout()"
   ]
  },
  {
   "source": [
    "## Closing the chrome driver window"
   ],
   "cell_type": "markdown",
   "metadata": {}
  },
  {
   "cell_type": "code",
   "execution_count": 159,
   "metadata": {},
   "outputs": [],
   "source": [
    "driver.close()"
   ]
  }
 ]
}