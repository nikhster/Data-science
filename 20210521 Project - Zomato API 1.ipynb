{
 "metadata": {
  "language_info": {
   "codemirror_mode": {
    "name": "ipython",
    "version": 3
   },
   "file_extension": ".py",
   "mimetype": "text/x-python",
   "name": "python",
   "nbconvert_exporter": "python",
   "pygments_lexer": "ipython3",
   "version": "3.8.5"
  },
  "orig_nbformat": 2,
  "kernelspec": {
   "name": "python385jvsc74a57bd01e915f0a29dc84041eaeb02b7b1a21c440e37a87b61d44d5e84a515737dc82bc",
   "display_name": "Python 3.8.5 64-bit ('base': conda)"
  }
 },
 "nbformat": 4,
 "nbformat_minor": 2,
 "cells": [
  {
   "source": [
    "# Zomato API - I"
   ],
   "cell_type": "markdown",
   "metadata": {}
  },
  {
   "source": [
    "### Access key\n",
    "#627c28c07ad221c65491bbffea6f5d54\n",
    "\n",
    "#68a952b60155797d28def1585d888b9f\n",
    "\n",
    "#a1460684c45b3ba1a38a6b1473597055\n",
    "\n",
    "#399720f6f904f106e162cd2bd0011a6f\n",
    "\n",
    "#816c8c7a9e52da5bd2dcc0446558288d"
   ],
   "cell_type": "markdown",
   "metadata": {}
  },
  {
   "source": [
    "## Zomato Cuisine"
   ],
   "cell_type": "markdown",
   "metadata": {}
  },
  {
   "source": [
    "### 1.Fetch the cuisine_id of ‘Mexican’ cuisine using Zomato API.  Print the cuisine_id."
   ],
   "cell_type": "markdown",
   "metadata": {}
  },
  {
   "cell_type": "code",
   "execution_count": 17,
   "metadata": {},
   "outputs": [
    {
     "output_type": "stream",
     "name": "stdout",
     "text": [
      "73\n"
     ]
    }
   ],
   "source": [
    "import requests\n",
    "import json\n",
    "params={\"city_id\":58}\n",
    "headers={\"Accept\": \"application/json\",\"user-key\":\"627c28c07ad221c65491bbffea6f5d54\"}\n",
    "response = requests.get(\"https://developers.zomato.com/api/v2.1/cuisines\",headers = headers,params=params)\n",
    "#print(response.status_code)\n",
    "pData = response.json()\n",
    "for i in pData['cuisines']:\n",
    "    if(i['cuisine']['cuisine_name']=='Mexican'):\n",
    "        print(i['cuisine']['cuisine_id'])"
   ]
  },
  {
   "source": [
    "### 2.Fetch the entityid and entitytype of place Connaught Place. Print the entityid and entitytype,"
   ],
   "cell_type": "markdown",
   "metadata": {}
  },
  {
   "cell_type": "code",
   "execution_count": 38,
   "metadata": {},
   "outputs": [
    {
     "output_type": "stream",
     "name": "stdout",
     "text": [
      "subzone 104\n"
     ]
    }
   ],
   "source": [
    "import requests\n",
    "import json\n",
    "params={'query' : 'Connaught Place'}\n",
    "headers={\"Accept\": \"application/json\",\"user-key\":\"627c28c07ad221c65491bbffea6f5d54\"}\n",
    "response = requests.get(\"https://developers.zomato.com/api/v2.1/locations\",headers = headers,params=params)\n",
    "response.status_code\n",
    "pData = response.json()\n",
    "print(pData[\"location_suggestions\"][0].get(\"entity_type\"),pData[\"location_suggestions\"][0].get(\"entity_id\"))"
   ]
  },
  {
   "source": [
    "### 3.Fetch the top 10 best-rated restaurant serving ‘Mexican’ cuisine present in Connaught Place. Print the restaurant name, user rating and restaurant id."
   ],
   "cell_type": "markdown",
   "metadata": {}
  },
  {
   "cell_type": "code",
   "execution_count": 56,
   "metadata": {
    "tags": []
   },
   "outputs": [
    {
     "output_type": "stream",
     "name": "stdout",
     "text": [
      "Station Bar 4.5 18851371\nMaster Of Malts 4.4 18391149\nChili's Grill & Bar 4.4 18537536\nTamasha 4.3 18238278\nLocal 4.3 18382360\nThe Junkyard Cafe 4.3 313256\nMinistry Of Beer 4.3 18418277\nThe Darzi Bar & Kitchen 4.3 18423151\nTeddy Boy 4.3 18281985\nLord Of The Drinks 4.3 312603\n"
     ]
    }
   ],
   "source": [
    "import requests\n",
    "import json\n",
    "params={\"entity_id\":\"104\",\"entity_type\":\"subzone\",'cuisines':73,'sort':'rating','count':10}\n",
    "headers={\"Accept\": \"application/json\",\"user-key\":\"627c28c07ad221c65491bbffea6f5d54\"}\n",
    "response = requests.get(\"https://developers.zomato.com/api/v2.1/search\",headers = headers,params=params)\n",
    "pData = response.json()\n",
    "\n",
    "for i in response.json().get('restaurants'):\n",
    "    \n",
    "    print(i.get('restaurant').get('name'),i.get('restaurant').get('user_rating').get('aggregate_rating'),\n",
    "    i.get('restaurant').get('R').get('res_id'))"
   ]
  },
  {
   "cell_type": "code",
   "execution_count": 66,
   "metadata": {
    "tags": []
   },
   "outputs": [
    {
     "output_type": "stream",
     "name": "stdout",
     "text": [
      "Station Bar 4.5 18851371\nMaster Of Malts 4.4 18391149\nChili's Grill & Bar 4.4 18537536\nTamasha 4.3 18238278\nLocal 4.3 18382360\nThe Junkyard Cafe 4.3 313256\nMinistry Of Beer 4.3 18418277\nThe Darzi Bar & Kitchen 4.3 18423151\nTeddy Boy 4.3 18281985\nLord Of The Drinks 4.3 312603\n"
     ]
    }
   ],
   "source": [
    "#ta code\n",
    "import requests\n",
    "user_key='3754f0440b3026cde542ed69af9f499a'\n",
    "basic_api='https://developers.zomato.com/api/v2.1'\n",
    "header={\"User-agent\": \"curl/7.43.0\",'Accept': 'application/json','user-key':user_key}\n",
    "cp_entity_id=104\n",
    "cp_entity_type='subzone'\n",
    "cuisine_id=73\n",
    "params= {'entity_id':cp_entity_id,'entity_type':cp_entity_type,'sort':'rating','cuisines':cuisine_id,'count':10}\n",
    "response=requests.get(basic_api+'/search',headers=header,params=params)\n",
    "for i in response.json().get('restaurants'):\n",
    "    print(i.get('restaurant').get('name'),i.get('restaurant').get('user_rating').get('aggregate_rating'),i.get('restaurant').get('R').get('res_id'))\n",
    "    #print(i.get(\"restaurant\"))\n",
    "    #print(\"------------------------\")"
   ]
  },
  {
   "source": [
    "### 4.Fetch the category id of category type ‘Cafes’ using Zomato API. Print the category_id.\n"
   ],
   "cell_type": "markdown",
   "metadata": {}
  },
  {
   "cell_type": "code",
   "execution_count": 63,
   "metadata": {},
   "outputs": [
    {
     "output_type": "stream",
     "name": "stdout",
     "text": [
      "6\n"
     ]
    }
   ],
   "source": [
    "import requests\n",
    "import json\n",
    "params={}\n",
    "headers={\"Accept\": \"application/json\",\"user-key\":\"627c28c07ad221c65491bbffea6f5d54\"}\n",
    "response = requests.get(\"https://developers.zomato.com/api/v2.1/categories\",headers = headers,params=params)\n",
    "pData = response.json()\n",
    "#print(pData[\"categories\"])\n",
    "for i in pData[\"categories\"]:\n",
    "    if i[\"categories\"][\"name\"] == \"Cafes\" :\n",
    "        print(i[\"categories\"][\"id\"])"
   ]
  },
  {
   "source": [
    "### 5.Fetch the best-rated restaurant for ‘Mexican’ cuisine with category type ‘ Cafes’ present in Connaught Place using Zomato API. Print the restaurant name, user rating and restaurant id."
   ],
   "cell_type": "markdown",
   "metadata": {}
  },
  {
   "cell_type": "code",
   "execution_count": 68,
   "metadata": {},
   "outputs": [
    {
     "output_type": "stream",
     "name": "stdout",
     "text": [
      "Xero Degrees 4.3 18729557\nChaayos - Meri Wali Chai 4.2 18237315\nThe Art House Restaurant 3.9 18863766\nCafe Coffee Day - The Square 3.6 303034\n"
     ]
    }
   ],
   "source": [
    "import requests\n",
    "import json\n",
    "params={\"entity_id\":\"104\",\"entity_type\":\"subzone\",'cuisines':73,'sort':'rating',\"category\":\"6\"}\n",
    "headers={\"Accept\": \"application/json\",\"user-key\":\"627c28c07ad221c65491bbffea6f5d54\"}\n",
    "response = requests.get(\"https://developers.zomato.com/api/v2.1/search\",headers = headers,params=params)\n",
    "pData = response.json()\n",
    "\n",
    "for i in response.json().get('restaurants'):\n",
    "    \n",
    "    print(i.get('restaurant').get('name'),i.get('restaurant').get('user_rating').get('aggregate_rating'),\n",
    "    i.get('restaurant').get('R').get('res_id'))"
   ]
  },
  {
   "source": [
    "### 6.Fetch the latest review of the best-rated restaurant for ‘Mexican’ cuisine with Category type ‘Cafes’ present in Connaught Place using Zomato API. Print the name of user ,user rating and review text.\n",
    "#### Note : Due to limitation of basic API plan it, can only fetch 5 latest review"
   ],
   "cell_type": "markdown",
   "metadata": {}
  },
  {
   "source": [
    "#### find top 5 restaurants(here only 4). find its 1 latest review. below code. this is not what is asked in the question"
   ],
   "cell_type": "markdown",
   "metadata": {}
  },
  {
   "cell_type": "code",
   "execution_count": 86,
   "metadata": {},
   "outputs": [
    {
     "output_type": "stream",
     "name": "stdout",
     "text": [
      "[18729557, 18237315, 18863766, 303034]\n",
      "Pratishtha Wadhwa 2 Very bad burger, no taste, just sauces and piece of paneer. Complete waste of money and mood.\n",
      "Rishabh Gupta 2 filter coffee was cold, too much milk added, 4 cups of promised cup were only not even 3 cups. I am a regular customer I had notified quantity issue earlier issue and still it was not fixed.\n",
      "Harsh Singh 5 \n",
      "Ronak Dhingra 4 Coffee is all time stress buster.. I keep visited ccd outlets near by me to have my favourite cup of coffee... visited this cp outlet last month and forgot to review it ... I must say cp outlet is the most of the best outlets..   ✅✅stay safe\n"
     ]
    }
   ],
   "source": [
    "import requests\n",
    "import json\n",
    "params={\"entity_id\":\"104\",\"entity_type\":\"subzone\",'cuisines':73,'sort':'rating',\"category\":\"6\"}\n",
    "headers={\"Accept\": \"application/json\",\"user-key\":\"627c28c07ad221c65491bbffea6f5d54\"}\n",
    "response = requests.get(\"https://developers.zomato.com/api/v2.1/search\",headers = headers,params=params)\n",
    "pData = response.json()\n",
    "\n",
    "topResID = []\n",
    "for i in response.json().get('restaurants'):\n",
    "    #print(i.get('restaurant').get('name'),\n",
    "    #  i.get('restaurant').get('R').get('res_id'))\n",
    "    topResID.append(i.get(\"restaurant\").get('R').get('res_id'))\n",
    "print(topResID)\n",
    "\n",
    "for i in topResID:\n",
    "    parami = {\"res_id\":i , \"count\":1}\n",
    "    response = requests.get(\"https://developers.zomato.com/api/v2.1/reviews\" , headers= headers,params=parami)\n",
    "    pDataReviews = response.json()\n",
    "    print(pDataReviews[\"user_reviews\"][0][\"review\"][\"user\"][\"name\"], pDataReviews[\"user_reviews\"][0][\"review\"][\"rating\"],pDataReviews[\"user_reviews\"][0][\"review\"][\"review_text\"] )\n",
    "    \n"
   ]
  },
  {
   "source": [
    "#### actual answer . find top 1 restaurant. find its 5 latest reviews. below code "
   ],
   "cell_type": "markdown",
   "metadata": {}
  },
  {
   "cell_type": "code",
   "execution_count": 90,
   "metadata": {},
   "outputs": [
    {
     "output_type": "stream",
     "name": "stdout",
     "text": [
      "Pratishtha Wadhwa 2 Very bad burger, no taste, just sauces and piece of paneer. Complete waste of money and mood.\nMoksh Saxena 3 The service is unmatched. The staff truly cares about your experience.\nBishnu Patel 5 Innovative concept and good food! I recommend  > out this outlet and we ordered Peppy paneer pizza, grill sandwich, peri peri fries, cheese nachos, chicken drum pizza in a jar And special red velvet shake, nutrella shake, waffle. Result amazing and best ever place order delicious and tasty foods at affordable prices would like to highly recommend this amazing place to all. 😇😇 It’s a must visit place. ❤\nRahul Patel 5 Visited my friend's place and and she suggests me to try out this outlet and we ordered Peppy paneer pizza, grill sandwich, peri peri fries, cheese nachos, chicken drum pizza in a jar And special red velvet shake, nutrella shake, waffle ..  I really liked the the delicious and hygienic foods. I would like to give them lots of thanks for their amazing and high rated services. 😊😊\nDeepak Gupta 5 I tried their Peppy paneer pizza, grill sandwich, peri peri fries, cheese nachos, chicken drum pizza in a jar And special red velvet shake, nutrella shake, waffle.  Seating area was good, maintained social distance and ambience was also nice. Staff was friendly and following proper safety guidelines. With reasonable prices, there was no compromise with quality..\n"
     ]
    }
   ],
   "source": [
    "import requests\n",
    "import json\n",
    "params={\"entity_id\":\"104\",\"entity_type\":\"subzone\",'cuisines':73,'sort':'rating',\"category\":\"6\"}\n",
    "headers={\"Accept\": \"application/json\",\"user-key\":\"627c28c07ad221c65491bbffea6f5d54\"}\n",
    "response = requests.get(\"https://developers.zomato.com/api/v2.1/search\",headers = headers,params=params)\n",
    "pData = response.json()\n",
    "\n",
    "topResID = []\n",
    "for i in response.json().get('restaurants'):\n",
    "    topResID.append(i.get(\"restaurant\").get('R').get('res_id'))\n",
    "\n",
    "parami = {\"res_id\": topResID[0], \"count\":5}\n",
    "response = requests.get(\"https://developers.zomato.com/api/v2.1/reviews\" , headers= headers,params=parami)\n",
    "pDataReviews = response.json()\n",
    "for i in pDataReviews[\"user_reviews\"]:\n",
    "    print(i[\"review\"][\"user\"][\"name\"],i[\"review\"][\"rating\"],i[\"review\"][\"review_text\"], )\n",
    "\n",
    "    \n"
   ]
  },
  {
   "source": [
    "## Zomato Restaurant"
   ],
   "cell_type": "markdown",
   "metadata": {}
  },
  {
   "source": [
    "### 7.Fetch the details of \"Pa Pa Ya\" restaurant (ID: 18429148) using Zomato API. Print the user rating, the average cost for two, cuisines and address of \"Pa Pa Ya\" restaurant."
   ],
   "cell_type": "markdown",
   "metadata": {}
  },
  {
   "cell_type": "code",
   "execution_count": 16,
   "metadata": {},
   "outputs": [
    {
     "output_type": "stream",
     "name": "stdout",
     "text": [
      "4.5\n2500\nAsian, Chinese, Thai, Japanese, Sushi, Malaysian, Momos, Beverages\nA-3, Select Citywalk, District Centre, Saket, New Delhi\n"
     ]
    }
   ],
   "source": [
    "import requests\n",
    "import json\n",
    "params={\"res_id\":\"18429148\"}\n",
    "headers={\"Accept\": \"application/json\",\"user-key\":\"627c28c07ad221c65491bbffea6f5d54\"}\n",
    "response = requests.get(\"https://developers.zomato.com/api/v2.1/restaurant\",headers = headers,params=params)\n",
    "pData = response.json()\n",
    "print(pData[\"user_rating\"][\"aggregate_rating\"])\n",
    "print(pData[\"average_cost_for_two\"])\n",
    "print(pData[\"cuisines\"])\n",
    "print(pData[\"location\"][\"address\"])"
   ]
  },
  {
   "source": [
    "### 8.Find out whether online table reservation is supported in \"Pa Pa Ya\" restaurant or not using Zomato API. Print 'yes' if online table reservation is supported else 'no'\n",
    "#### Note : In Zomato response JSON. 1=Yes and 0 = No"
   ],
   "cell_type": "markdown",
   "metadata": {}
  },
  {
   "cell_type": "code",
   "execution_count": 19,
   "metadata": {},
   "outputs": [
    {
     "output_type": "stream",
     "name": "stdout",
     "text": [
      "Yes\n"
     ]
    }
   ],
   "source": [
    "import requests\n",
    "import json\n",
    "params={\"res_id\":\"18429148\"}\n",
    "headers={\"Accept\": \"application/json\",\"user-key\":\"627c28c07ad221c65491bbffea6f5d54\"}\n",
    "response = requests.get(\"https://developers.zomato.com/api/v2.1/restaurant\",headers = headers,params=params)\n",
    "pData = response.json()\n",
    "if pData[\"is_table_reservation_supported\"] == 1:\n",
    "    print(\"yes\")\n",
    "else:\n",
    "    print(\"no\")"
   ]
  },
  {
   "source": [
    "### 9.Fetch the latest review of \"Pa Pa Ya\" restaurant using Zomato API. Print the name of the user, user rating and review text.\n",
    "#### Note : Due to the limitation of the basic API plan, it can only fetch 5 latest review"
   ],
   "cell_type": "markdown",
   "metadata": {}
  },
  {
   "cell_type": "code",
   "execution_count": 22,
   "metadata": {},
   "outputs": [
    {
     "output_type": "stream",
     "name": "stdout",
     "text": [
      "VN 1 \nSimran Chopra 5 A really nice place with a really nice ambience and the service is also really nice. Love the food here.\nKshitij Kirtikar 5 Went to pa pa ya today 14/4/2021 for lunch. I always make it a point to visit this outlet in saket New Delhi. The location is just amazing as it’s a rooftop. The food is always great and service is fantastic as well. Vikrant was serving us today and he is well informed and gave great service too\nRishabh 5 Sanjeev served us and help us throughout the experience of dining as we were the first timer to this cuisine and restaurant.  Thank you!\nRaju 5 \n"
     ]
    }
   ],
   "source": [
    "import requests\n",
    "import json\n",
    "headers={\"Accept\": \"application/json\",\"user-key\":\"627c28c07ad221c65491bbffea6f5d54\"}\n",
    "parami = {\"res_id\":\"18429148\" , \"count\":5}\n",
    "response = requests.get(\"https://developers.zomato.com/api/v2.1/reviews\" , headers= headers,params=parami)\n",
    "pDataReviews = response.json()\n",
    "\n",
    "for i in pDataReviews[\"user_reviews\"]:\n",
    "    print(i[\"review\"][\"user\"][\"name\"],i[\"review\"][\"rating\"],i[\"review\"][\"review_text\"], )"
   ]
  },
  {
   "source": [
    "## Zomato Distance"
   ],
   "cell_type": "markdown",
   "metadata": {}
  },
  {
   "source": [
    "### 10.Fetch the cuisine_id of of cuisine ‘BBQ’ using Zomato API. Print the cuisine_id"
   ],
   "cell_type": "markdown",
   "metadata": {}
  },
  {
   "cell_type": "code",
   "execution_count": 34,
   "metadata": {},
   "outputs": [
    {
     "output_type": "stream",
     "name": "stdout",
     "text": [
      "193\n"
     ]
    }
   ],
   "source": [
    "import requests\n",
    "import json\n",
    "headers={\"Accept\": \"application/json\",\"user-key\":\"627c28c07ad221c65491bbffea6f5d54\"}\n",
    "parami = {\"city_id\":1 }\n",
    "response = requests.get(\"https://developers.zomato.com/api/v2.1/cuisines\" , headers= headers,params=parami)\n",
    "pData = response.json()\n",
    "for i in pData[\"cuisines\"]:\n",
    "    if i[\"cuisine\"][\"cuisine_name\"] == \"BBQ\":\n",
    "        print(i[\"cuisine\"][\"cuisine_id\"])"
   ]
  },
  {
   "source": [
    "### 11.Fetch the list of the top 10 restaurants serving cuisine ‘BBQ’ which are nearest to Coding Ninjas. Print the restaurant name, user rating, restaurant id and locality in which restaurant is present."
   ],
   "cell_type": "markdown",
   "metadata": {}
  },
  {
   "cell_type": "code",
   "execution_count": 4,
   "metadata": {},
   "outputs": [
    {
     "output_type": "stream",
     "name": "stdout",
     "text": [
      "Tandoori Nights 0 19661940 Pitampura\nUBQ by Barbeque Nation 3.6 18889769 Netaji Subhash Place\nBarbeque Nation 4.1 9561 Netaji Subhash Place\nAmazings Kitchen 0 19370424 Prashant Vihar\nAnytime Chicken 0 19520153 Shalimar Bagh\nUBQ by Barbeque Nation 4.1 19082741 Lawrence Road\nMoet's Barbeque 0 19238917 Alipur\nBBQ Express By The Barbeque Company 3.8 19494102 Punjabi Bagh\nUBQ by Barbeque Nation 3.8 18889760 Rohini\nBarbeque Nation 4.1 18805412 Rohini\n"
     ]
    }
   ],
   "source": [
    "import requests\n",
    "import json\n",
    "headers={\"Accept\": \"application/json\",\"user-key\":\"627c28c07ad221c65491bbffea6f5d54\"}\n",
    "parami = {\"city_id\":1 }\n",
    "response = requests.get(\"https://developers.zomato.com/api/v2.1/cuisines\" , headers= headers,params=parami)\n",
    "pData = response.json()\n",
    "for i in pData[\"cuisines\"]:\n",
    "    if i[\"cuisine\"][\"cuisine_name\"] == \"BBQ\":\n",
    "        BBQid = i[\"cuisine\"][\"cuisine_id\"]\n",
    "params = {'lon':'77.1406','lat':'28.6975','cuisines':BBQid,'sort':'real_distance','count':10}\n",
    "response=requests.get('https://developers.zomato.com/api/v2.1/search',headers=headers,params=params)\n",
    "data=r.json()\n",
    "for i in data['restaurants']:\n",
    "    print(i['restaurant']['name'],i['restaurant']['user_rating']['aggregate_rating'],i['restaurant']['id'],i['restaurant']['location']['locality'])\n"
   ]
  },
  {
   "cell_type": "code",
   "execution_count": 1,
   "metadata": {},
   "outputs": [
    {
     "output_type": "stream",
     "name": "stdout",
     "text": [
      "Tandoori Nights 0 19661940 Pitampura\nUBQ by Barbeque Nation 3.6 18889769 Netaji Subhash Place\nBarbeque Nation 4.1 9561 Netaji Subhash Place\nAmazings Kitchen 0 19370424 Prashant Vihar\nAnytime Chicken 0 19520153 Shalimar Bagh\nUBQ by Barbeque Nation 4.1 19082741 Lawrence Road\nMoet's Barbeque 0 19238917 Alipur\nBBQ Express By The Barbeque Company 3.8 19494102 Punjabi Bagh\nUBQ by Barbeque Nation 3.8 18889760 Rohini\nBarbeque Nation 4.1 18805412 Rohini\n"
     ]
    }
   ],
   "source": [
    "#ta code\n",
    "\n",
    "import requests\n",
    "r=requests.get(\"https://developers.zomato.com/api/v2.1/search\",headers={'user-key':'d35451bc6dc04b3662194e3fce301ced'},params={'lon':'77.1406','lat':'28.6975','count':'10','cuisines':'193','sort':'real_distance','order':'asc'})\n",
    "data=r.json()\n",
    "for i in data['restaurants']:\n",
    "    print(i['restaurant']['name'],i['restaurant']['user_rating']['aggregate_rating'],i['restaurant']['id'],i['restaurant']['location']['locality'])"
   ]
  },
  {
   "source": [
    "### 12.Fetch the latest review of the restaurant serving cuisine ‘BBQ’ which is most nearest to Coding ninjas? Print the name of user ,user rating and review text.\n",
    "#### Note : Due to limitation of basic API plan it, can only fetch 5 latest review"
   ],
   "cell_type": "markdown",
   "metadata": {}
  },
  {
   "source": [
    "#### Answer according to logic"
   ],
   "cell_type": "markdown",
   "metadata": {}
  },
  {
   "cell_type": "code",
   "execution_count": 31,
   "metadata": {},
   "outputs": [
    {
     "output_type": "stream",
     "name": "stdout",
     "text": [
      "Ridhika Jain 5 \nKIM KALYANI 5 Really amazing packing, taste and quality. loved it to bits 😍 Highly recommended 🥳\nKIM KALYANI 5 Amazing dishes of chicken, loved all the items😍 must visit for non veg lovers. Very nice staff too👍\n"
     ]
    }
   ],
   "source": [
    "import requests\n",
    "import json\n",
    "BBQid = 193\n",
    "headers={\"Accept\": \"application/json\",\"user-key\":\"627c28c07ad221c65491bbffea6f5d54\"}\n",
    "params = {'lon':'77.1406','lat':'28.6975','cuisines':BBQid,'sort':'real_distance','count':1}\n",
    "response = requests.get('https://developers.zomato.com/api/v2.1/search',headers=headers,params=params)\n",
    "pDataNearestR = response.json()\n",
    "nearestRedID = pDataNearestR[\"restaurants\"][0][\"restaurant\"][\"R\"][\"res_id\"]\n",
    "\n",
    "paramsReview = {\"res_id\": nearestRedID}\n",
    "resReview = requests.get(\"https://developers.zomato.com/api/v2.1/reviews\", headers=headers,params=paramsReview)\n",
    "pDataReviews = resReview.json()[\"user_reviews\"]\n",
    "for i in pDataReviews:\n",
    "    print(i[\"review\"][\"user\"][\"name\"],i[\"review\"][\"rating\"],i[\"review\"][\"review_text\"])"
   ]
  },
  {
   "source": [
    "#### Answer according to coding ninjas\n"
   ],
   "cell_type": "markdown",
   "metadata": {}
  },
  {
   "cell_type": "code",
   "execution_count": 32,
   "metadata": {},
   "outputs": [
    {
     "output_type": "stream",
     "name": "stdout",
     "text": [
      "Shivam Rana 1 \nNikhil 1 Everything was great about this restaurant but giving it 1 star coz it's closed for ever now n zomato hasn't updated this on there app yet...\nPalak Gupta 1 Since morning i am trying to call them and they keep rejecting my call. What kind of service is this? Phone being busy is understandable but why would you reject the call?\nGarima Arora 5 Wow place for family .. friends or anyone i have enjoyed my family dinner food is superb with quality and service and staff was superb .. amamzingly attend  and serviced.. mouth watering food barbeque snacks dinner deserts 😍♥️\nASHISH GUPTA 1 I went there because of the reviews and the food was pathetic. Go for pirates of grill. It will be worth it\n"
     ]
    }
   ],
   "source": [
    "import requests\n",
    "import json\n",
    "BBQid = 193\n",
    "headers={\"Accept\": \"application/json\",\"user-key\":\"627c28c07ad221c65491bbffea6f5d54\"}\n",
    "paramsReview = {\"res_id\": 18204820}\n",
    "resReview = requests.get(\"https://developers.zomato.com/api/v2.1/reviews\", headers=headers,params=paramsReview)\n",
    "pDataReviews = resReview.json()[\"user_reviews\"]\n",
    "for i in pDataReviews:\n",
    "    print(i[\"review\"][\"user\"][\"name\"],i[\"review\"][\"rating\"],i[\"review\"][\"review_text\"])"
   ]
  },
  {
   "source": [
    "### 13.Experiment with the radius parameter that is present in ‘GET/search’. Fetch the list of top 10 best-restaurant present in a radius of 4 km of coding ninjas. Print the restaurant name, user rating, restaurant id and locality in which restaurant is present."
   ],
   "cell_type": "markdown",
   "metadata": {}
  },
  {
   "cell_type": "code",
   "execution_count": 38,
   "metadata": {
    "tags": []
   },
   "outputs": [
    {
     "output_type": "stream",
     "name": "stdout",
     "text": [
      "Indian Accent 4.9 2004 The Lodhi, Lodhi Road\nKuremal Mohan Lal Kulfi Wale 4.9 303642 Chawri Bazar\nThe Big Chill 4.9 1614 Khan Market\nDum-Pukht - ITC Maurya 4.9 2744 ITC Maurya, Chanakyapuri\nThe Big Chill 4.9 8244 Khan Market\nNatural Ice Cream 4.8 310143 Connaught Place\nThe Big Chill Cafe 4.8 18919107 The Colonnade, Connaught Place\nThe Big Chill 4.8 3192 DLF Avenue, Saket\nThe Big Chill Cakery 4.8 18665943 Khan Market\nThe Big Chill 4.8 3190 Kailash Colony\n"
     ]
    }
   ],
   "source": [
    "import requests\n",
    "import json\n",
    "headers={\"Accept\": \"application/json\",\"user-key\":\"627c28c07ad221c65491bbffea6f5d54\"}\n",
    "params = {'lon':'77.1406','lat':'28.6975','radius': \"4000\",'sort':'rating','count':10}\n",
    "response = requests.get('https://developers.zomato.com/api/v2.1/search',headers=headers,params=params)\n",
    "pDataTopTenRes = response.json()[\"restaurants\"]\n",
    "#print(pDataTopTenRes[0])\n",
    "for i in pDataTopTenRes:\n",
    "    print(i[\"restaurant\"][\"name\"],i[\"restaurant\"][\"user_rating\"][\"aggregate_rating\"],i[\"restaurant\"][\"R\"][\"res_id\"],i[\"restaurant\"][\"location\"][\"locality\"])\n"
   ]
  },
  {
   "source": [
    "### 14.Compare the location of the restaurant whether really they are in a distance of 4 km to Coding Ninjas. Find out whether these API radius feature is working or not. Print 'yes' if radius feature work else print 'no'.\n",
    "#### Note : Use google search to find whether restaurant lie in range of 4km or not."
   ],
   "cell_type": "markdown",
   "metadata": {}
  },
  {
   "cell_type": "code",
   "execution_count": 39,
   "metadata": {},
   "outputs": [
    {
     "output_type": "stream",
     "name": "stdout",
     "text": [
      "no\n"
     ]
    }
   ],
   "source": [
    "print(\"no\")"
   ]
  }
 ]
}